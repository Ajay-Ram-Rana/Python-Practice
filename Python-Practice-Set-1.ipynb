{
 "cells": [
  {
   "cell_type": "markdown",
   "metadata": {},
   "source": [
    "# Q1:\n",
    "Write a Python program that defines a function called \"add_numbers\" that takes two arguments (i.e., numbers) and returns their sum. Within the function, add the two numbers together and return the resultusing the return statement. Call the function with the values 5 and 6, and print out the returned result. This will result in the addition of 5 and 6, with the output of the program being the sum of these two numbers."
   ]
  },
  {
   "cell_type": "code",
   "execution_count": 5,
   "metadata": {
    "scrolled": true
   },
   "outputs": [
    {
     "name": "stdout",
     "output_type": "stream",
     "text": [
      "Give Ist No:5\n",
      "Give IInd No:6\n",
      "Sum Of 5.0 + 6.0 = 11.0\n"
     ]
    }
   ],
   "source": [
    "def add_numbers(x,y):\n",
    "    sum = x+y\n",
    "    return sum\n",
    "\n",
    "\n",
    "\n",
    "a = float(input(\"Give Ist No:\"))\n",
    "b = float(input(\"Give IInd No:\"))\n",
    "c = add_numbers(a,b)\n",
    "print(\"Sum Of {} + {} = {}\".format(a,b,c))"
   ]
  },
  {
   "cell_type": "markdown",
   "metadata": {},
   "source": [
    "# Q2:\n",
    "Write a Python program that calculates the square root of a given number using a built-in function.\n",
    "Specifically, the program should take an integer or float input from the user, calculate its square root\n",
    "using the 'sqrt()' function from the 'math' module, and print out the result to the user. As an example,\n",
    "calculate the square root of the number 625 using this program, which should output the value of 25."
   ]
  },
  {
   "cell_type": "code",
   "execution_count": 14,
   "metadata": {
    "scrolled": true
   },
   "outputs": [
    {
     "name": "stdout",
     "output_type": "stream",
     "text": [
      "Give Number for square root :2356\n",
      "Square root of 2356.0 = 48.53864439804639\n"
     ]
    }
   ],
   "source": [
    "from math import sqrt\n",
    "\n",
    "x = float(input(\"Give Number for square root :\"))\n",
    "y = sqrt(x)\n",
    "print(\"Square root of {} = {}\".format(x,y))"
   ]
  },
  {
   "cell_type": "markdown",
   "metadata": {},
   "source": [
    "# Q3.\n",
    "Write a program that prints all prime numbers between 0 to 50."
   ]
  },
  {
   "cell_type": "code",
   "execution_count": 1,
   "metadata": {
    "scrolled": true
   },
   "outputs": [
    {
     "name": "stdout",
     "output_type": "stream",
     "text": [
      " Give The Range of the Number in between you want All prime numbers : \n",
      "Give the lower limit : 13\n",
      "Give the upper limit : 50\n",
      "[13, 17, 19, 23, 29, 31, 37, 41, 43, 47]\n",
      " Prime Numbers in between 13 and 50 = 10 \n"
     ]
    }
   ],
   "source": [
    " def prime(x,y):\n",
    "        prime_lst = []\n",
    "        for i in range(x,y+1):            \n",
    "            if i>1:\n",
    "                for j in range(2,i):\n",
    "                    if i%j==0:\n",
    "                        break\n",
    "                else:\n",
    "                    prime_lst.append(i)\n",
    "                    \n",
    "            \n",
    "        return prime_lst               \n",
    "                        \n",
    "                       \n",
    "\n",
    "\n",
    "\n",
    "print(\" Give The Range of the Number in between you want All prime numbers : \")\n",
    "\n",
    "lwr = int(input(\"Give the lower limit : \"))\n",
    "upp = int(input(\"Give the upper limit : \"))\n",
    "\n",
    "lst = prime(lwr,upp)\n",
    "\n",
    "print(lst)\n",
    "\n",
    "print(\" Prime Numbers in between {} and {} = {} \".format(lwr,upp,len(lst)))"
   ]
  },
  {
   "cell_type": "markdown",
   "metadata": {},
   "source": [
    "# Q4.\n",
    "How can we swap the values of three variables (let's say a, b, and c) without using a fourth variable?\n",
    "\n",
    "For example, \n",
    "            if we have a=5, b=8, and c=9, how can we obtain a=9, b=5, and c=8? The challenge is to perform this  operation without using an additional variable to store any of the values during the swapping process."
   ]
  },
  {
   "cell_type": "code",
   "execution_count": 2,
   "metadata": {
    "scrolled": true
   },
   "outputs": [
    {
     "name": "stdout",
     "output_type": "stream",
     "text": [
      "Give Ist integer:45\n",
      "Give IInd integer:56\n",
      "Give IIIrd integer:89\n",
      "Before swapping a = 45 , b = 56 , c = 89\n",
      "After swapping a = 89 , b = 45 , c = 56\n"
     ]
    }
   ],
   "source": [
    "\n",
    "def swapThree(a, b, c):\n",
    "    a = a + b + c \n",
    "    b = a - (b+c) \n",
    "    c = a - (b+c) \n",
    "    a = a - (b+c) \n",
    "    print(\"After swapping a =\",a,\", b =\",b,\", c =\",c)\n",
    "\n",
    "    \n",
    "    \n",
    "if __name__ == '__main__':\n",
    "    \n",
    "    a = int(input(\"Give Ist integer:\"))\n",
    "    b = int(input(\"Give IInd integer:\"))\n",
    "    c = int(input(\"Give IIIrd integer:\"))\n",
    "\n",
    "    print(\"Before swapping a =\",a,\", b =\",b,\", c =\",c)\n",
    "\n",
    "    swapThree(a, b, c)\n",
    "\n"
   ]
  },
  {
   "cell_type": "markdown",
   "metadata": {},
   "source": [
    "# Q5. \n",
    "Can you write a program that determines the nature of a given number (in this case, 87) as being positive, negative, or zero? The program should be designed to take the number as input and perform the necessary calculations to determine if the number is positive (i.e., greater than zero), negative (i.e., less than zero), or zero (i.e., equal to zero). The output of the program should indicate which of these three categories the given number falls into."
   ]
  },
  {
   "cell_type": "code",
   "execution_count": 7,
   "metadata": {
    "scrolled": true
   },
   "outputs": [
    {
     "name": "stdout",
     "output_type": "stream",
     "text": [
      "Give the number to check nature :-9876\n",
      "-9876.0 is negative\n"
     ]
    }
   ],
   "source": [
    "def nature_number(n):\n",
    "    if(n>0):\n",
    "        print(\"{} is positive \".format(n))\n",
    "        \n",
    "    elif(n==0):\n",
    "        print(\"{} is zero \".format(n))\n",
    "    else:\n",
    "        print(\"{} is negative\".format(n))\n",
    "        \n",
    "        \n",
    "        \n",
    "if __name__ =='__main__':\n",
    "    a = float(input(\"Give the number to check nature :\"))\n",
    "    nature_number(a)\n",
    "        "
   ]
  },
  {
   "cell_type": "markdown",
   "metadata": {},
   "source": [
    "# Q6.\n",
    "How can you create a program that determines whether a given number (in this case, 98) is even or odd? The program should be designed to take the number as input and perform the necessary calculations to determine whether it is divisible by two. If the number is divisible by two without leaving a remainder, it is an even number, and if  there is a remainder, it is an odd number. The output of the program should indicate whether the given number is even or odd."
   ]
  },
  {
   "cell_type": "code",
   "execution_count": 9,
   "metadata": {
    "scrolled": true
   },
   "outputs": [
    {
     "name": "stdout",
     "output_type": "stream",
     "text": [
      "Give the number to check nature :7890\n",
      "7890.0 is even \n"
     ]
    }
   ],
   "source": [
    "def even_odd_number(n):\n",
    "    if(n%2==0):\n",
    "        print(\"{} is even \".format(n))\n",
    "    else:\n",
    "        print(\"{} is odd \".format(n))\n",
    "        \n",
    "        \n",
    "        \n",
    "if __name__ =='__main__':\n",
    "    a = float(input(\"Give the number to check nature :\"))\n",
    "    even_odd_number(a)\n",
    "        "
   ]
  },
  {
   "cell_type": "markdown",
   "metadata": {},
   "source": [
    "# Q7.\n",
    "Write a program for sum of digits.the digits are 76543 and the output should be 25."
   ]
  },
  {
   "cell_type": "code",
   "execution_count": 30,
   "metadata": {
    "scrolled": false
   },
   "outputs": [
    {
     "name": "stdout",
     "output_type": "stream",
     "text": [
      "Give the number to do the Sum of digits:76543\n",
      "Final digits sum  = 25\n"
     ]
    }
   ],
   "source": [
    "def digit_sum(n):\n",
    "    total_sum = 0\n",
    "    while(int(n/10)!=0) :\n",
    "        digits =  n % 10\n",
    "        total_sum = total_sum + digits \n",
    "        n = int(n/10) \n",
    "        \n",
    "    total_sum = total_sum+n   \n",
    "    return total_sum     \n",
    "        \n",
    "        \n",
    "        \n",
    "        \n",
    "        \n",
    "if __name__ =='__main__':\n",
    "    a = int(input(\"Give the number to do the Sum of digits:\"))\n",
    "    b  = digit_sum(a)\n",
    "    print(\"Final digits sum  = {}\".format(b))\n",
    "        "
   ]
  },
  {
   "cell_type": "markdown",
   "metadata": {},
   "source": [
    "# Q8.\n",
    "Write a program for reversing the given number 5436 and the output should be 6345."
   ]
  },
  {
   "cell_type": "code",
   "execution_count": 15,
   "metadata": {},
   "outputs": [
    {
     "name": "stdout",
     "output_type": "stream",
     "text": [
      "Give The Number :8907356\n",
      "After Reverse : 6537098\n"
     ]
    }
   ],
   "source": [
    "def reverse_number(num):\n",
    "    reversed_num = 0\n",
    "    while num != 0:\n",
    "        digit = num % 10\n",
    "        reversed_num = reversed_num * 10 + digit\n",
    "        num //= 10\n",
    "    print(\"After Reverse : {}\".format(reversed_num))    \n",
    "\n",
    "\n",
    "\n",
    "if __name__ ==\"__main__\":\n",
    "    n = int(input(\"Give The Number :\"))\n",
    "    reverse_number(n)\n",
    "\n"
   ]
  },
  {
   "cell_type": "markdown",
   "metadata": {},
   "source": [
    "# Q9.\n",
    "Write a program to check if a given number 371 is an Armstrong number?"
   ]
  },
  {
   "cell_type": "code",
   "execution_count": 21,
   "metadata": {
    "scrolled": true
   },
   "outputs": [
    {
     "name": "stdout",
     "output_type": "stream",
     "text": [
      "Give the Number to check it is an Armstrong or Not :54748\n",
      "Given Number 54748 is Armstrong :\n"
     ]
    }
   ],
   "source": [
    "def sum_l_digits(m,l):\n",
    "    sum  = 0\n",
    "    while m!=0:\n",
    "        digit = (m%10)**l\n",
    "        sum = sum+ digit\n",
    "        m //=10\n",
    "    return sum\n",
    "    \n",
    "    \n",
    "\n",
    "def armstong_num(n):\n",
    "    l = len(str(n))\n",
    "    if sum_l_digits(n,l)==n:\n",
    "        print(\"Given Number {} is Armstrong :\".format(n))\n",
    "        \n",
    "    else:\n",
    "        print(\"Given Number {} is not an Armstrong : \".format(n))\n",
    "        \n",
    "        \n",
    "if __name__ == \"__main__\":\n",
    "    num = int(input(\"Give the Number to check it is an Armstrong or Not :\"))\n",
    "    armstong_num(num)\n",
    "        "
   ]
  },
  {
   "cell_type": "markdown",
   "metadata": {},
   "source": [
    "# Q10.\n",
    "Write a program the given year is 1996, a leap year."
   ]
  },
  {
   "cell_type": "code",
   "execution_count": 35,
   "metadata": {
    "scrolled": true
   },
   "outputs": [
    {
     "name": "stdout",
     "output_type": "stream",
     "text": [
      "Give The year :1900\n",
      "Year 1900 is not a Leap year\n"
     ]
    }
   ],
   "source": [
    "def leap_year(y):\n",
    "    if len(str(y))>2:\n",
    "        if (int(y)%4 ==0) and (int(y)%400 ==0):\n",
    "            print(\"Year {} is a Leap year\".format(y))\n",
    "        else:\n",
    "            print(\"Year {} is not a Leap year\".format(y))\n",
    "            \n",
    "    else:\n",
    "        if (int(y)%4 == 0):\n",
    "            print(\"{} is a Leap year\".format(y))\n",
    "            \n",
    "        else:\n",
    "            print(\"{} is not a Leap year\".format(y))\n",
    "            \n",
    "            \n",
    "            \n",
    "            \n",
    "if __name__ == '__main__':\n",
    "    y = int(input(\"Give The year :\"))\n",
    "    leap_year(y)"
   ]
  },
  {
   "cell_type": "markdown",
   "metadata": {},
   "source": [
    "______________________________________________________________________________________\n",
    "                                         Python Practice Set -1 \n",
    "                                               Completed \n",
    "\n",
    "______________________________________________________________________________________\n",
    "\n"
   ]
  }
 ],
 "metadata": {
  "kernelspec": {
   "display_name": "Python 3",
   "language": "python",
   "name": "python3"
  },
  "language_info": {
   "codemirror_mode": {
    "name": "ipython",
    "version": 3
   },
   "file_extension": ".py",
   "mimetype": "text/x-python",
   "name": "python",
   "nbconvert_exporter": "python",
   "pygments_lexer": "ipython3",
   "version": "3.6.9"
  }
 },
 "nbformat": 4,
 "nbformat_minor": 4
}
