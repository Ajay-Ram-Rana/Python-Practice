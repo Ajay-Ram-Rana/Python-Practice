{
 "cells": [
  {
   "cell_type": "markdown",
   "metadata": {},
   "source": [
    "# Q1.\n",
    "Create a list in python using the followings: 2,3,4,5,6,7 with variable ‘a’\n",
    "Add ‘mango to the above list\n",
    "Also add banana, grapes & orange in the list\n",
    "insert apple in the 5th position of a variable ‘a’\n",
    "Remove last item from the list"
   ]
  },
  {
   "cell_type": "code",
   "execution_count": 9,
   "metadata": {
    "scrolled": true
   },
   "outputs": [
    {
     "data": {
      "text/plain": [
       "list"
      ]
     },
     "execution_count": 9,
     "metadata": {},
     "output_type": "execute_result"
    }
   ],
   "source": [
    "a = [2,3,4,5,6,7]\n",
    "type(a)"
   ]
  },
  {
   "cell_type": "code",
   "execution_count": 10,
   "metadata": {
    "scrolled": true
   },
   "outputs": [
    {
     "data": {
      "text/plain": [
       "[2, 3, 4, 5, 6, 7, 'mango']"
      ]
     },
     "execution_count": 10,
     "metadata": {},
     "output_type": "execute_result"
    }
   ],
   "source": [
    "a.append('mango')\n",
    "a"
   ]
  },
  {
   "cell_type": "code",
   "execution_count": 11,
   "metadata": {},
   "outputs": [
    {
     "data": {
      "text/plain": [
       "[2, 3, 4, 5, 6, 7, 'mango', 'banana']"
      ]
     },
     "execution_count": 11,
     "metadata": {},
     "output_type": "execute_result"
    }
   ],
   "source": [
    "a.append('banana')\n",
    "a"
   ]
  },
  {
   "cell_type": "code",
   "execution_count": 12,
   "metadata": {},
   "outputs": [
    {
     "data": {
      "text/plain": [
       "[2, 3, 4, 5, 6, 7, 'mango', 'banana', 'grapes', 'Orange']"
      ]
     },
     "execution_count": 12,
     "metadata": {},
     "output_type": "execute_result"
    }
   ],
   "source": [
    "a.extend(['grapes','Orange'])\n",
    "a"
   ]
  },
  {
   "cell_type": "code",
   "execution_count": 13,
   "metadata": {},
   "outputs": [
    {
     "data": {
      "text/plain": [
       "[2, 3, 4, 5, 'Apple', 6, 7, 'mango', 'banana', 'grapes', 'Orange']"
      ]
     },
     "execution_count": 13,
     "metadata": {},
     "output_type": "execute_result"
    }
   ],
   "source": [
    "a.insert(4,'Apple')\n",
    "a"
   ]
  },
  {
   "cell_type": "code",
   "execution_count": 14,
   "metadata": {
    "scrolled": true
   },
   "outputs": [
    {
     "data": {
      "text/plain": [
       "[2, 3, 4, 5, 'Apple', 6, 7, 'mango', 'banana', 'grapes']"
      ]
     },
     "execution_count": 14,
     "metadata": {},
     "output_type": "execute_result"
    }
   ],
   "source": [
    "a.pop()\n",
    "a"
   ]
  },
  {
   "cell_type": "markdown",
   "metadata": {},
   "source": [
    "# Q2:\n",
    "\n",
    "L = [1,2,3,4,5,6,7]\n",
    "Using the above list slice from 1:4"
   ]
  },
  {
   "cell_type": "code",
   "execution_count": 16,
   "metadata": {
    "scrolled": true
   },
   "outputs": [
    {
     "data": {
      "text/plain": [
       "[2, 3, 4]"
      ]
     },
     "execution_count": 16,
     "metadata": {},
     "output_type": "execute_result"
    }
   ],
   "source": [
    "L=[1,2,3,4,5,6,7]\n",
    "L[1:4]"
   ]
  },
  {
   "cell_type": "markdown",
   "metadata": {},
   "source": [
    "# Q3:\n",
    " Reverse the order of given string L = [4,5,6,8,3] Without using reverse() function."
   ]
  },
  {
   "cell_type": "code",
   "execution_count": 17,
   "metadata": {},
   "outputs": [
    {
     "data": {
      "text/plain": [
       "[7, 6, 5, 4, 3, 2, 1]"
      ]
     },
     "execution_count": 17,
     "metadata": {},
     "output_type": "execute_result"
    }
   ],
   "source": [
    "L[::-1]"
   ]
  },
  {
   "cell_type": "markdown",
   "metadata": {},
   "source": [
    "# Q4. \n",
    "Use list comprehension to square the given list L=[2,4,7,3,6,8]"
   ]
  },
  {
   "cell_type": "code",
   "execution_count": 18,
   "metadata": {
    "scrolled": true
   },
   "outputs": [
    {
     "name": "stdout",
     "output_type": "stream",
     "text": [
      "[4, 16, 49, 9, 36, 64]\n"
     ]
    }
   ],
   "source": [
    "L = [2,4,7,3,6,8]\n",
    "square_no = [i**2 for i in L]\n",
    "print(square_no)"
   ]
  },
  {
   "cell_type": "markdown",
   "metadata": {},
   "source": [
    "# Q5.\n",
    "Create a function that takes in a tuple of integers and returns the sum of the integers. Test the\n",
    "function with a tuple of your choice."
   ]
  },
  {
   "cell_type": "markdown",
   "metadata": {},
   "source": [
    "# Notes:\n",
    "\n",
    "    Case 1: fnc(a, b) – Sends a and b as separate elements to fnc.\n",
    " \n",
    "    Case 2: fnc((a, b)) – Sends (a, b), whole tuple as 1 single entity, one element.\n",
    "\n",
    "    Case 3: fnc(*(a, b)) – Sends both, a and b as in Case 1, as separate integers."
   ]
  },
  {
   "cell_type": "code",
   "execution_count": 5,
   "metadata": {
    "scrolled": true
   },
   "outputs": [
    {
     "name": "stdout",
     "output_type": "stream",
     "text": [
      "()\n",
      "(1, 2, 3)\n",
      "(1, 'Hello', 3.4)\n",
      "('mouse', [8, 4, 6], (1, 2, 3))\n",
      "<class 'tuple'>\n",
      "<class 'str'>\n",
      "<class 'tuple'>\n",
      "<class 'str'>\n"
     ]
    }
   ],
   "source": [
    "# Different types of tuples\n",
    "\n",
    "# Empty tuple\n",
    "my_tuple = ()\n",
    "print(my_tuple)\n",
    "\n",
    "# Tuple having integers\n",
    "my_tuple = (1, 2, 3)\n",
    "print(my_tuple)\n",
    "\n",
    "# tuple with mixed datatypes\n",
    "my_tuple = (1, \"Hello\", 3.4)\n",
    "print(my_tuple)\n",
    "\n",
    "# nested tuple\n",
    "my_tuple = (\"mouse\", [8, 4, 6], (1, 2, 3))\n",
    "print(my_tuple)\n",
    "\n",
    "my_tuple = ('Ajay',)\n",
    "print(type(my_tuple))\n",
    "my_tuple=('Ajay')\n",
    "print(type(my_tuple))\n",
    "my_tuple='Ajay',\n",
    "print(type(my_tuple))\n",
    "my_tuple='Ajay'\n",
    "print(type(my_tuple))"
   ]
  },
  {
   "cell_type": "code",
   "execution_count": 7,
   "metadata": {},
   "outputs": [
    {
     "name": "stdout",
     "output_type": "stream",
     "text": [
      "The result of Case 1 : \n",
      "Value of a : 4\n",
      "Value of b : 7\n",
      "The result of Case 2 : \n",
      "Value of a : (4, 7)\n",
      "Value of b : None\n",
      "The result of Case 3 : \n",
      "Value of a : 4\n",
      "Value of b : 7\n"
     ]
    }
   ],
   "source": [
    "# Python3 code to demonstrate working of\n",
    "# Tuple as function arguments\n",
    "\n",
    "# function with default arguments\n",
    "def fnc(a=None, b=None):\n",
    "\tprint(\"Value of a : \" + str(a))\n",
    "\tprint(\"Value of b : \" + str(b))\n",
    "\n",
    "# Driver code\n",
    "if __name__ == \"__main__\" :\n",
    "\t\n",
    "# initializing a And b\n",
    "    a = 4\n",
    "    b = 7\n",
    "\n",
    "# Tuple as function arguments\n",
    "# Case 1 - passing as integers\n",
    "print(\"The result of Case 1 : \")\n",
    "fnc(a, b)\n",
    "\n",
    "# Tuple as function arguments\n",
    "# Case 2 - Passing as tuple\n",
    "print(\"The result of Case 2 : \")\n",
    "fnc((a, b))\n",
    "\n",
    "# Tuple as function arguments\n",
    "# Case 3 - passing as pack/unpack\n",
    "# operator, as integer\n",
    "print(\"The result of Case 3 : \")\n",
    "fnc(*(a, b))\n"
   ]
  },
  {
   "cell_type": "markdown",
   "metadata": {},
   "source": [
    "# Answer Q(5):"
   ]
  },
  {
   "cell_type": "code",
   "execution_count": 33,
   "metadata": {
    "scrolled": true
   },
   "outputs": [
    {
     "name": "stdout",
     "output_type": "stream",
     "text": [
      "Enter space-separated words: 11 22 -9 10 12 13\n",
      "('11', '22', '-9', '10', '12', '13')\n",
      "Sum of all elements of the given tuple  : 59 \n"
     ]
    }
   ],
   "source": [
    " def fun_sum(x):\n",
    "        sum  = 0\n",
    "        for i in x:\n",
    "            sum = sum + int(i)\n",
    "            \n",
    "        return sum   \n",
    "\n",
    "\n",
    "\n",
    "\n",
    "\n",
    "if __name__ == '__main__':\n",
    "    \n",
    "    my_tuple = tuple(input('Enter space-separated words: ').split())\n",
    "                                                                  # input('Enter space-separated words: ').split()\n",
    "                                                                  # it generates the list \n",
    "\n",
    "    print(my_tuple)\n",
    "    sum = fun_sum(my_tuple)\n",
    "    print(\"Sum of all elements of the given tuple  : {} \".format(sum))    \n"
   ]
  },
  {
   "cell_type": "markdown",
   "metadata": {},
   "source": [
    "# Q6.\n",
    "Create two sets of your favourite fruits, and use the union() method to combine them into a single set.\n",
    "Print the resulting set to the console."
   ]
  },
  {
   "cell_type": "code",
   "execution_count": 38,
   "metadata": {
    "scrolled": true
   },
   "outputs": [
    {
     "name": "stdout",
     "output_type": "stream",
     "text": [
      "Give name of your favourite fruits :Apple Banana Kiwi Grapes\n",
      "Give name of your favourite fruits :Strawberry Pineapple Pomegranate Papaya Mango\n",
      " Set A : {'Banana', 'Grapes', 'Kiwi', 'Apple'}\n",
      "Set B : {'Strawberry', 'Pineapple', 'Mango', 'Pomegranate', 'Papaya'}\n",
      "A U B  = {'Grapes', 'Strawberry', 'Banana', 'Pineapple', 'Mango', 'Kiwi', 'Apple', 'Pomegranate', 'Papaya'}\n"
     ]
    }
   ],
   "source": [
    "A = set(input(\"Give name of your favourite fruits :\").split())\n",
    "B = set(input(\"Give name of your favourite fruits :\").split())\n",
    "print(\" Set A : {}\".format(A))\n",
    "print(\"Set B : {}\".format(B))\n",
    "C = A.union(B)\n",
    "print(\"A U B  = {}\".format(C))"
   ]
  },
  {
   "cell_type": "markdown",
   "metadata": {},
   "source": [
    "# Q7.\n",
    "Create a set of random words, and use the add() method to add a new word to the set. Print the\n",
    "resulting set to the console."
   ]
  },
  {
   "cell_type": "code",
   "execution_count": 39,
   "metadata": {
    "scrolled": true
   },
   "outputs": [
    {
     "name": "stdout",
     "output_type": "stream",
     "text": [
      "Give the Random Word :Ajay Poonam Suman Radha Neelam Aarti \n",
      "Give any word you  want to add into the set of Random words : Mithhi\n",
      "After Adding : X  = {'Neelam', 'Aarti', 'Ajay', 'Poonam', 'Suman', 'Radha', 'Mithhi'}\n"
     ]
    }
   ],
   "source": [
    "X  = set(input(\"Give the Random Word :\").split())\n",
    "y  = input(\"Give any word you  want to add into the set of Random words : \")\n",
    "X.add(y)\n",
    "print(\"After Adding : X  = {}\".format(X))"
   ]
  },
  {
   "cell_type": "markdown",
   "metadata": {},
   "source": [
    "# Q8.\n",
    "Create a set of your favourite animals, and use the remove() method to remove one animal from the\n",
    "set. Print the resulting set to the console."
   ]
  },
  {
   "cell_type": "code",
   "execution_count": 40,
   "metadata": {},
   "outputs": [
    {
     "name": "stdout",
     "output_type": "stream",
     "text": [
      "Name of Favourite Animals  :horse cow dog cat tiger deer rabbit\n",
      "Given Set A : {'cat', 'deer', 'cow', 'dog', 'rabbit', 'tiger', 'horse'}\n",
      "Give the name of Animals you want to remove from the set A  : cow\n",
      "After Removing set A : {'cat', 'deer', 'dog', 'rabbit', 'tiger', 'horse'}\n"
     ]
    }
   ],
   "source": [
    "A = set(input(\"Name of Favourite Animals  :\").split())\n",
    "print(\"Given Set A : {}\".format(A))\n",
    "B = input(\"Give the name of Animals you want to remove from the set A  : \")\n",
    "A.remove(B)\n",
    "print(\"After Removing set A : {}\".format(A))"
   ]
  },
  {
   "cell_type": "markdown",
   "metadata": {},
   "source": [
    "# Q9.\n",
    "favorite_books = {\"1984\", \"To Kill a Mockingbird\", \"Pride and Prejudice\"}\n",
    "favorite_movies = [\"The Shawshank Redemption\", \"The Godfather\", \"The Dark Knight\"]\n",
    "Use the zip() function to combine the book set and movie list into a list of tuples representing book/\n",
    "movie pairs. Print the resulting list."
   ]
  },
  {
   "cell_type": "code",
   "execution_count": 41,
   "metadata": {},
   "outputs": [
    {
     "name": "stdout",
     "output_type": "stream",
     "text": [
      "(('To Kill a Mockingbird', 'The Shawshank Redemption'), ('1984', 'The Godfather'), ('Pride and Prejudice', 'The Dark Knight'))\n"
     ]
    }
   ],
   "source": [
    "favorite_books = {\"1984\", \"To Kill a Mockingbird\", \"Pride and Prejudice\"}\n",
    "favorite_movies = [\"The Shawshank Redemption\", \"The Godfather\", \"The Dark Knight\"]\n",
    "final = zip(favorite_books,favorite_movies)\n",
    "print(tuple(final))\n",
    "\n"
   ]
  },
  {
   "cell_type": "markdown",
   "metadata": {},
   "source": [
    "# Q10.\n",
    "Write a Python program to find the difference between consecutive numbers in a list."
   ]
  },
  {
   "cell_type": "code",
   "execution_count": 10,
   "metadata": {
    "scrolled": true
   },
   "outputs": [
    {
     "name": "stdout",
     "output_type": "stream",
     "text": [
      "Give the numbers :11 -9 23 10 12 10 -23 -8 \n",
      "Differences of consecutive numbers of given list : [20, 32, 13, 2, 2, 33, 15]\n"
     ]
    }
   ],
   "source": [
    "def difference(a):\n",
    "    b = []\n",
    "    i=0\n",
    "    while i<(len(a)-1):\n",
    "        b.append(abs(int(a[i])-int(a[i+1])))\n",
    "        i = i+1\n",
    "        \n",
    "    return b    \n",
    "        \n",
    "        \n",
    "\n",
    "\n",
    "\n",
    "if __name__ == \"__main__\":\n",
    "    given_list = input(\"Give the numbers :\").split()\n",
    "    x = difference(given_list)\n",
    "    print(\"Differences of consecutive numbers of given list : {}\".format(x))\n",
    "\n",
    "    "
   ]
  },
  {
   "cell_type": "markdown",
   "metadata": {},
   "source": [
    "_______________________________________________________________________________\n",
    "\n",
    "\n",
    "                             Completed Python-Practice-Set-2\n",
    "          \n",
    "\n",
    "________________________________________________________________________________"
   ]
  }
 ],
 "metadata": {
  "kernelspec": {
   "display_name": "Python 3",
   "language": "python",
   "name": "python3"
  },
  "language_info": {
   "codemirror_mode": {
    "name": "ipython",
    "version": 3
   },
   "file_extension": ".py",
   "mimetype": "text/x-python",
   "name": "python",
   "nbconvert_exporter": "python",
   "pygments_lexer": "ipython3",
   "version": "3.6.9"
  }
 },
 "nbformat": 4,
 "nbformat_minor": 4
}
