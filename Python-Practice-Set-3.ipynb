{
 "cells": [
  {
   "cell_type": "markdown",
   "metadata": {},
   "source": [
    "# Q1.\n",
    "Create a dictionary called fruits with the following key-value pairs:\n",
    "\"apple\": 0.75\n",
    "\"banana\": 1.25\n",
    "\"orange\": 0.90\n",
    "Then, print out the price of a banana."
   ]
  },
  {
   "cell_type": "code",
   "execution_count": 1,
   "metadata": {},
   "outputs": [],
   "source": [
    "fruit = {\n",
    "    \"apple\": 0.75 ,\n",
    "    \"banana\": 1.25,\n",
    "    \"orange\": 0.90\n",
    "}\n",
    "\n"
   ]
  },
  {
   "cell_type": "code",
   "execution_count": 3,
   "metadata": {},
   "outputs": [
    {
     "name": "stdout",
     "output_type": "stream",
     "text": [
      "Price of Banana = 1.25\n"
     ]
    }
   ],
   "source": [
    "print(\"Price of Banana = {}\".format(fruit[\"banana\"]))"
   ]
  },
  {
   "cell_type": "markdown",
   "metadata": {},
   "source": [
    "# Q2. \n",
    "Create an empty dictionary called ages. Add the following key-value pairs to the dictionary:\n",
    "\"Alice\": 30\n",
    "\"Bob\": 25\n",
    "\"Charlie\": 35\n",
    "Then, print out the age of Charlie."
   ]
  },
  {
   "cell_type": "code",
   "execution_count": 6,
   "metadata": {
    "scrolled": true
   },
   "outputs": [
    {
     "data": {
      "text/plain": [
       "{'Alice': 30, 'Bob': 25, 'Charlie': 35}"
      ]
     },
     "execution_count": 6,
     "metadata": {},
     "output_type": "execute_result"
    }
   ],
   "source": [
    "age = {}\n",
    "age.update({\"Alice\":30,\"Bob\":25,\"Charlie\":35})\n",
    "age"
   ]
  },
  {
   "cell_type": "code",
   "execution_count": 7,
   "metadata": {},
   "outputs": [
    {
     "name": "stdout",
     "output_type": "stream",
     "text": [
      "Age of Charlie : 35\n"
     ]
    }
   ],
   "source": [
    "print(\"Age of Charlie : {}\".format(age[\"Charlie\"]))"
   ]
  },
  {
   "cell_type": "markdown",
   "metadata": {},
   "source": [
    "# Q3. \n",
    "Write a function called word_count(text) that takes a string as input and returns a dictionary where\n",
    "each key is a word in the text and its value is the number of times that word appears in the text. For\n",
    "example, word_count(\"hello world hello\") should return {\"hello\": 2, \"world\": 1}."
   ]
  },
  {
   "cell_type": "code",
   "execution_count": 33,
   "metadata": {
    "scrolled": true
   },
   "outputs": [
    {
     "name": "stdout",
     "output_type": "stream",
     "text": [
      "Give the sentance :hello world hello\n",
      "{'hello': 2, 'world': 1}\n"
     ]
    }
   ],
   "source": [
    "def word_count(s):\n",
    "    copy_list = s.copy()\n",
    "    #copy_list.remove(copy_list[0])\n",
    "    dictionary = {}\n",
    "     \n",
    "    for i in s: \n",
    "        count = 0\n",
    "        \n",
    "        for j in copy_list:\n",
    "            if i==j :\n",
    "                count = count+1 \n",
    "                \n",
    "                \n",
    "        dictionary.update({i: count})\n",
    "        \n",
    "    return dictionary     \n",
    "         \n",
    "\n",
    "\n",
    "\n",
    "\n",
    "\n",
    "\n",
    "x  = input(\"Give the sentance :\").split()\n",
    "y = word_count(x)\n",
    "print(y)"
   ]
  },
  {
   "cell_type": "markdown",
   "metadata": {},
   "source": [
    "# Q4.\n",
    "Create a dictionary called phone_book with the following key-value pairs:\n",
    "\"Alice\": \"555-1234\"\n",
    "\"Bob\": \"555-5678\"\n",
    "\"Charlie\": \"555-9012\"\n",
    "Then, prompt the user to enter a name and print out the corresponding phone number. If the name is not\n",
    "in the phone book, print out a message saying that the name was not found."
   ]
  },
  {
   "cell_type": "code",
   "execution_count": 48,
   "metadata": {},
   "outputs": [
    {
     "name": "stdout",
     "output_type": "stream",
     "text": [
      "How many record you want add :7\n",
      "Your Name :Sh. Sulekh Chand ji\n",
      "Your Phone Number:11234\n",
      "Your Name :Smt. Om Wati Devi\n",
      "Your Phone Number:1235\n",
      "Your Name :Poonam\n",
      "Your Phone Number:1236\n",
      "Your Name :Ajay\n",
      "Your Phone Number:1237\n",
      "Your Name :Suman\n",
      "Your Phone Number:1238\n",
      "Your Name :Radha\n",
      "Your Phone Number:1239\n",
      "Your Name :Neelam\n",
      "Your Phone Number:1230\n",
      "{'Sh. Sulekh Chand ji': 11234, 'Smt. Om Wati Devi': 1235, 'Poonam': 1236, 'Ajay': 1237, 'Suman': 1238, 'Radha': 1239, 'Neelam': 1230}\n",
      "Search :Mithi\n",
      "Not Found :\n"
     ]
    }
   ],
   "source": [
    "phone_book = {}\n",
    "n = int(input(\"How many record you want add :\"))\n",
    "for i in range(n):\n",
    "    name  = input(\"Your Name :\")\n",
    "    phone_no = int(input(\"Your Phone Number:\"))\n",
    "    phone_book[name]=phone_no\n",
    "    \n",
    "    \n",
    "print(phone_book)    \n",
    "x = input(\"Search :\")\n",
    "if x in phone_book :\n",
    "    print(\"Found: {}\".format(phone_book[x]))\n",
    "else:\n",
    "    print(\"Not Found :\")\n",
    "    "
   ]
  },
  {
   "cell_type": "markdown",
   "metadata": {},
   "source": [
    "# Q5.\n",
    "Write a program that prompts the user to enter a number between 1 and 10. If the number is less than\n",
    "5, print out \"Too low!\", otherwise print out \"Too high!\"."
   ]
  },
  {
   "cell_type": "code",
   "execution_count": 50,
   "metadata": {},
   "outputs": [
    {
     "name": "stdout",
     "output_type": "stream",
     "text": [
      "Give any number in between 1 and 100 :3\n",
      "Too Low\n"
     ]
    }
   ],
   "source": [
    "n = int(input(\"Give any number in between 1 and 100 :\"))\n",
    "if n<5:\n",
    "    print(\"Too Low\")\n",
    "else:\n",
    "    print(\"Too High\")\n",
    "    "
   ]
  },
  {
   "cell_type": "markdown",
   "metadata": {},
   "source": [
    "# Q6.\n",
    "Write a program that prompts the user to enter a password. If the password is \"password123\", print\n",
    "out \"Access granted\", otherwise print out \"Access denied\"."
   ]
  },
  {
   "cell_type": "code",
   "execution_count": 51,
   "metadata": {},
   "outputs": [
    {
     "name": "stdout",
     "output_type": "stream",
     "text": [
      "Give the password :password123\n",
      "Access Granted:\n"
     ]
    }
   ],
   "source": [
    "p = input(\"Give the password :\")\n",
    "if p=='password123':\n",
    "    print(\"Access Granted:\")\n",
    "    \n",
    "else:\n",
    "    print(\"Access Denied:\")"
   ]
  },
  {
   "cell_type": "markdown",
   "metadata": {},
   "source": [
    "# Q7.\n",
    "Write a program that prompts the user to enter a positive integer. Then, use a loop to print out all the\n",
    "odd numbers from 1 to that integer."
   ]
  },
  {
   "cell_type": "code",
   "execution_count": 53,
   "metadata": {
    "scrolled": true
   },
   "outputs": [
    {
     "name": "stdout",
     "output_type": "stream",
     "text": [
      "Give any number bigger than 1  and less than you want :100\n",
      "1 odd : 3\n",
      "2 odd : 5\n",
      "3 odd : 7\n",
      "4 odd : 9\n",
      "5 odd : 11\n",
      "6 odd : 13\n",
      "7 odd : 15\n",
      "8 odd : 17\n",
      "9 odd : 19\n",
      "10 odd : 21\n",
      "11 odd : 23\n",
      "12 odd : 25\n",
      "13 odd : 27\n",
      "14 odd : 29\n",
      "15 odd : 31\n",
      "16 odd : 33\n",
      "17 odd : 35\n",
      "18 odd : 37\n",
      "19 odd : 39\n",
      "20 odd : 41\n",
      "21 odd : 43\n",
      "22 odd : 45\n",
      "23 odd : 47\n",
      "24 odd : 49\n",
      "25 odd : 51\n",
      "26 odd : 53\n",
      "27 odd : 55\n",
      "28 odd : 57\n",
      "29 odd : 59\n",
      "30 odd : 61\n",
      "31 odd : 63\n",
      "32 odd : 65\n",
      "33 odd : 67\n",
      "34 odd : 69\n",
      "35 odd : 71\n",
      "36 odd : 73\n",
      "37 odd : 75\n",
      "38 odd : 77\n",
      "39 odd : 79\n",
      "40 odd : 81\n",
      "41 odd : 83\n",
      "42 odd : 85\n",
      "43 odd : 87\n",
      "44 odd : 89\n",
      "45 odd : 91\n",
      "46 odd : 93\n",
      "47 odd : 95\n",
      "48 odd : 97\n",
      "49 odd : 99\n"
     ]
    }
   ],
   "source": [
    "n  = int(input(\"Give any number bigger than 1  and less than you want :\"))\n",
    "j = 1\n",
    "for i in range(2,n+1):\n",
    "    if i%2!=0:\n",
    "        print(\"{} odd : {}\".format(j,i))\n",
    "        j+=1"
   ]
  },
  {
   "cell_type": "markdown",
   "metadata": {},
   "source": [
    "# Q8.\n",
    "Write a program that generates a random number between 1 and 100 and then prompts the user to\n",
    "guess the number. If the user's guess is too low, print out \"Too low!\", if the guess is too high, print out \"Too\n",
    "high!\", and if the guess is correct, print out \"You win!\"."
   ]
  },
  {
   "cell_type": "code",
   "execution_count": 62,
   "metadata": {
    "scrolled": true
   },
   "outputs": [
    {
     "name": "stdout",
     "output_type": "stream",
     "text": [
      "Any Guess Between  1 to 100 : 34\n",
      "Too Low\n",
      " Number Was : 65\n"
     ]
    }
   ],
   "source": [
    "import random\n",
    "guess = int(input(\"Any Guess Between  1 to 100 : \"))\n",
    "n = random.randint(1,100)\n",
    "\n",
    "if guess==n:\n",
    "    print(\"You Win\\n Number was : {}\".format(n))\n",
    "elif guess<n:\n",
    "    print(\"Too Low\\n Number Was : {}\".format(n))\n",
    "else:\n",
    "    \n",
    "    print(\"Too High\\n Number was :{}\".format(n))\n"
   ]
  },
  {
   "cell_type": "markdown",
   "metadata": {},
   "source": [
    "# Q9.\n",
    "Write a program that generates a random number between 1 and 10 and then prompts the user to\n",
    "guess the number. The user has three attempts to guess the number. If the user guesses correctly within\n",
    "three attempts, print out \"You win!\", otherwise print out \"You lose!\"."
   ]
  },
  {
   "cell_type": "code",
   "execution_count": 7,
   "metadata": {
    "scrolled": true
   },
   "outputs": [
    {
     "name": "stdout",
     "output_type": "stream",
     "text": [
      "No of guesses => 3\n",
      " Between  1 to 10 \n",
      " Guess 1: 2\n",
      " Guess 2: 8\n",
      " Guess 3: 9\n",
      "You Lose:\n",
      "Number was : 3\n"
     ]
    }
   ],
   "source": [
    "import random\n",
    "print(\"No of guesses => 3\\n Between  1 to 10 \")\n",
    "\n",
    "n = random.randint(1,10)\n",
    "i = 1\n",
    "while i<=3:\n",
    "    guess = int(input(\" Guess {}: \".format(i)))\n",
    "    i+=1\n",
    "\n",
    "if guess==n:\n",
    "    print(\"You Win:\")\n",
    "else:\n",
    "    print(\"You Lose:\\nNumber was : {}\".format(n))\n"
   ]
  },
  {
   "cell_type": "markdown",
   "metadata": {},
   "source": [
    "# Q10.\n",
    "Write a program that prompts the user to enter their age and then prints out whether they are a child\n",
    "(age 0-12), a teenager (age 13-19), an adult (age 20-59), or a senior (age 60+)"
   ]
  },
  {
   "cell_type": "code",
   "execution_count": 9,
   "metadata": {},
   "outputs": [
    {
     "name": "stdout",
     "output_type": "stream",
     "text": [
      "Tell Your Age :55\n",
      "You are a Adult\n"
     ]
    }
   ],
   "source": [
    "age  = int(input(\"Tell Your Age :\"))\n",
    "if 0<age<=12:\n",
    "    print(\"You are a CHILD\")\n",
    "if 13<=age<=19:\n",
    "    print(\"You are a TEENAGER\")\n",
    "if 20<=age<=59:\n",
    "    print(\"You are a Adult\")\n",
    "else:\n",
    "    print(\"You are SENIOR \")\n",
    "    "
   ]
  },
  {
   "cell_type": "markdown",
   "metadata": {},
   "source": [
    "________________________________________________________________________________________\n",
    "\n",
    "\n",
    "                                    Completed Python-Practice-Set-3\n",
    "\n",
    "________________________________________________________________________________________\n",
    "\n",
    "\n",
    "\n"
   ]
  }
 ],
 "metadata": {
  "kernelspec": {
   "display_name": "Python 3",
   "language": "python",
   "name": "python3"
  },
  "language_info": {
   "codemirror_mode": {
    "name": "ipython",
    "version": 3
   },
   "file_extension": ".py",
   "mimetype": "text/x-python",
   "name": "python",
   "nbconvert_exporter": "python",
   "pygments_lexer": "ipython3",
   "version": "3.6.9"
  }
 },
 "nbformat": 4,
 "nbformat_minor": 4
}
