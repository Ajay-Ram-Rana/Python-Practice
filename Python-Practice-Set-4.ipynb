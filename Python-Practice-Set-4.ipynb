{
 "cells": [
  {
   "cell_type": "markdown",
   "metadata": {},
   "source": [
    "# Q1.\n",
    "Create a class called \"Person\" with properties for \"name\", \"age\", and \"gender\". Create an object of this\n",
    "class and print out its properties."
   ]
  },
  {
   "cell_type": "code",
   "execution_count": 3,
   "metadata": {
    "scrolled": true
   },
   "outputs": [
    {
     "name": "stdout",
     "output_type": "stream",
     "text": [
      "Ajay\n",
      "36\n",
      "M\n"
     ]
    }
   ],
   "source": [
    "class Person:\n",
    "    def __init__(self, name, age,gender):\n",
    "        self.name = name\n",
    "        self.age = age\n",
    "        self.gender = gender\n",
    "    \n",
    "\n",
    "p = Person('Ajay',36,'M')\n",
    "print(p.name)\n",
    "print(p.age)\n",
    "print(p.gender)"
   ]
  },
  {
   "cell_type": "markdown",
   "metadata": {},
   "source": [
    "# Q2.\n",
    "Write a Python class called \"Rectangle\" with attributes for \"width\" and \"height\". Implement methods\n",
    "to calculate the area and perimeter of the rectangle. Create an instance of this class and use it to print out\n",
    "the rectangle's area and perimeter."
   ]
  },
  {
   "cell_type": "code",
   "execution_count": 7,
   "metadata": {
    "scrolled": true
   },
   "outputs": [
    {
     "name": "stdout",
     "output_type": "stream",
     "text": [
      "Area:\n",
      "60\n",
      "Perimeter:\n",
      "34\n"
     ]
    }
   ],
   "source": [
    "class Rectangle:\n",
    "    def __init__(self,l,b):\n",
    "        self.width = l\n",
    "        self.height = b\n",
    "    def area(self):\n",
    "        print(\"Area:\")\n",
    "        print(self.width*self.height)\n",
    "    def perimeter(self):\n",
    "        print(\"Perimeter:\")\n",
    "        print((self.width+self.height)*2)\n",
    "        \n",
    "        \n",
    "r = Rectangle(12,5)        \n",
    "\n",
    "r.area()\n",
    "r.perimeter()\n",
    "\n"
   ]
  },
  {
   "cell_type": "markdown",
   "metadata": {},
   "source": [
    "# Q3.\n",
    "Write a Python class called \"BankAccount\" with attributes for \"balance\" and \"interest_rate\".\n",
    "Implement methods to deposit and withdraw money from the account, as well as to calculate the interest\n",
    "earned on the balance based on the interest rate. Create an instance of this class and use it to test out the\n",
    "implemented methods for deposit, withdrawal, and interest calculation."
   ]
  },
  {
   "cell_type": "code",
   "execution_count": 4,
   "metadata": {
    "scrolled": true
   },
   "outputs": [
    {
     "name": "stdout",
     "output_type": "stream",
     "text": [
      "You have Amount in Your Bank Account : 20000\n",
      " After Deposit:Balance : \n",
      "How much you want to deposit : \n",
      "20000\n",
      "After Deposited 20000 amount Balance amount : 40000\n",
      "How much You want to withdraw:\n",
      "1200\n",
      "After Withdrawl 1200 Amount Balance Amount : 38800\n",
      "Interest on Balance :\n",
      "interest of 4 months  = 7760.0\n"
     ]
    }
   ],
   "source": [
    "class BankAccount:\n",
    "    def __init__(self,balance,interest_rate):\n",
    "        self.balance = balance\n",
    "        self.interest_rate = interest_rate\n",
    "    def deposit(self,m):\n",
    "        self.balance = self.balance+m\n",
    "        print(\"After Deposited {} amount Balance amount : {}\".format(m,self.balance))\n",
    "        \n",
    "    def withdraw(self,n):\n",
    "        self.balance = self.balance - n\n",
    "        print(\"After Withdrawl {} Amount Balance Amount : {}\".format(n,self.balance))\n",
    "        \n",
    "    def interest(self,t):\n",
    "        self.interest_cal = ((self.balance) * (t )* (self.interest_rate))/100\n",
    "        print(\"interest of {} months  = {}\".format(t,self.interest_cal))\n",
    "        \n",
    "  \n",
    " \n",
    "if __name__ == \"__main__\" :\n",
    "    \n",
    "    x = 20000\n",
    "    r = 4\n",
    "    print(\"You have Amount in Your Bank Account : {}\".format(x))\n",
    "    b = BankAccount(x,5)\n",
    "    #print(\" After Deposit:Balance : \")\n",
    "    print(\"How much you want to deposit : \")\n",
    "    y = int(input())\n",
    "    \n",
    "    b.deposit(y)   \n",
    "    print(\"How much You want to withdraw:\")\n",
    "    z = int(input())\n",
    "    b.withdraw(z)\n",
    "    print(\"Interest on Balance :\")\n",
    "    b.interest(r)\n",
    "        \n",
    "        \n",
    "        "
   ]
  },
  {
   "cell_type": "markdown",
   "metadata": {},
   "source": [
    "# Q4.\n",
    "Write a Python class called \"Animal\" with attributes for \"name\" and \"species\". Create a subclass of\n",
    "\"Animal\" called \"Dog\" with additional attributes for \"breed\" and \"owner\". Implement both classes with\n",
    "appropriate methods and constructors to initialise their properties. Create instances of both classes and\n",
    "use them to print out the various properties of the animals and dogs, such as their names, species,\n",
    "breeds, and owners."
   ]
  },
  {
   "cell_type": "code",
   "execution_count": 6,
   "metadata": {
    "scrolled": true
   },
   "outputs": [
    {
     "name": "stdout",
     "output_type": "stream",
     "text": [
      "Your dog name:  Doggy \n",
      " Species : Geman shefard \n",
      " Owner : Ajay \n",
      " Breed : german \n",
      "\n"
     ]
    }
   ],
   "source": [
    "class Animal:\n",
    "    def __init__(self,name,species):\n",
    "        self.name = name\n",
    "        self.species = species\n",
    "        \n",
    "    def info(self):\n",
    "        print(\"Your dog name:  {} \\n Species : {} \\n Owner : {} \\n Breed : {} \\n\".format(self.name,self.species,self.owner,self.breed))\n",
    "        \n",
    "        \n",
    "        \n",
    "class Dog(Animal):\n",
    "    def __init__(self,name,species,owner,breed):\n",
    "        super().__init__(name,species)\n",
    "        self.owner = owner\n",
    "        self.breed = breed\n",
    "        \n",
    "        \n",
    "        \n",
    "if __name__ == \"__main__\":\n",
    "    d = Dog(\"Doggy\",\"Geman shefard\",\"Ajay\",\"german\")\n",
    "    d.info()\n",
    "    \n",
    "        \n",
    "        "
   ]
  },
  {
   "cell_type": "markdown",
   "metadata": {},
   "source": [
    "# Q5.\n",
    "Create a class called \"Car\" with properties for \"make\", \"model\", and \"year\". Create a subclass of \"Car\"\n",
    "called \"ElectricCar\" with additional properties for \"battery_size\" and \"range\". Create objects of both\n",
    "classes and print out their properties."
   ]
  },
  {
   "cell_type": "code",
   "execution_count": 12,
   "metadata": {},
   "outputs": [
    {
     "name": "stdout",
     "output_type": "stream",
     "text": [
      "Car Details \n",
      " Car Model:Ferray\n",
      " Car Year:2023 \n",
      " Car Battery_size:m\n",
      " Car Range: 2cr \n",
      "\n"
     ]
    }
   ],
   "source": [
    "class Car:\n",
    "    def __init__(self,model,year):\n",
    "        self.model = model\n",
    "        self.year = year\n",
    "    def print_info(self):\n",
    "        print(\"Car Details \\n Car Model:{}\\n Car Year:{} \\n Car Battery_size:{}\\n Car Range: {} \\n\".format(self.model,self.year,self.battery_size,self.rg))\n",
    "        \n",
    "        \n",
    "        \n",
    "class ElectricCar(Car):\n",
    "    def __init__(self,model,year,battery_size,rg):\n",
    "        super().__init__(model,year)\n",
    "        self.battery_size = battery_size\n",
    "        self.rg = rg\n",
    "    \n",
    "\n",
    "    \n",
    "    \n",
    "    \n",
    "if __name__ == \"__main__\":\n",
    "    e  = ElectricCar('Ferray',2023,'m','2cr')\n",
    "    e.print_info()\n",
    "    \n",
    "    \n",
    "    "
   ]
  },
  {
   "cell_type": "markdown",
   "metadata": {},
   "source": [
    "# Q6.\n",
    "Create a class called \"Student\" with properties for \"name\" and \"id\". Create a subclass of \"Student\"\n",
    "called \"GraduateStudent\" with additional properties for \"advisor\" and \"research_area\". Create objects of\n",
    "both classes and print out their properties."
   ]
  },
  {
   "cell_type": "code",
   "execution_count": 22,
   "metadata": {
    "scrolled": true
   },
   "outputs": [
    {
     "name": "stdout",
     "output_type": "stream",
     "text": [
      "Student : \n",
      " Name : Ajay\n",
      " ID : 121 \n",
      "\n",
      "GraduateStudent: \n",
      " Name : Mithi\n",
      " ID : 111\n",
      " Advisor : Google AI\n",
      " Research_Area : AI\n",
      "\n"
     ]
    }
   ],
   "source": [
    "class Student:\n",
    "    def __init__(self,name,i):\n",
    "        self.name = name \n",
    "        self.id   = i\n",
    "    def info_parent(self):\n",
    "        print(\"Student : \\n Name : {}\\n ID : {} \\n\".format(self.name,self.id))\n",
    "        \n",
    "class GraduateStudent(Student):\n",
    "    def __init__(self,name,i,advisor,research_area):\n",
    "        super().__init__(name,i)\n",
    "        self.advisor = advisor\n",
    "        self.research_area = research_area\n",
    "    def info_child(self):\n",
    "        print(\"GraduateStudent: \\n Name : {}\\n ID : {}\\n Advisor : {}\\n Research_Area : {}\\n\".format(self.name,self.id,self.advisor,self.research_area))\n",
    "        \n",
    "        \n",
    "        \n",
    "        \n",
    "        \n",
    "        \n",
    "if __name__ == \"__main__\":\n",
    "    a = Student('Ajay',121)\n",
    "    b = GraduateStudent('Mithi',111,'Google AI','AI')\n",
    "    \n",
    "    a.info_parent()\n",
    "    b.info_child()"
   ]
  },
  {
   "cell_type": "markdown",
   "metadata": {},
   "source": [
    "# Q7. \n",
    "Create a class called \"Shape\" with methods to calculate the area and perimeter of the shape. Create\n",
    "subclasses of \"Shape\" for \"Rectangle\", \"Circle\", and \"Triangle\" with their own methods for calculating area\n",
    "and perimeter. Create objects of each class and print out their area and perimeter."
   ]
  },
  {
   "cell_type": "code",
   "execution_count": 23,
   "metadata": {},
   "outputs": [
    {
     "name": "stdout",
     "output_type": "stream",
     "text": [
      "Rectangle area: 15\n",
      "Rectangle perimeter: 16\n",
      "Circle area: 50.26548245743669\n",
      "Circle perimeter: 25.132741228718345\n",
      "Triangle area: 6.0\n",
      "Triangle perimeter: 12\n"
     ]
    }
   ],
   "source": [
    "import math\n",
    "\n",
    "class Shape:\n",
    "    def calculate_area(self):\n",
    "        pass\n",
    "    \n",
    "    def calculate_perimeter(self):\n",
    "        pass\n",
    "\n",
    "\n",
    "class Rectangle(Shape):\n",
    "    def __init__(self, width, height):\n",
    "        self.width = width\n",
    "        self.height = height\n",
    "    \n",
    "    def calculate_area(self):\n",
    "        return self.width * self.height\n",
    "    \n",
    "    def calculate_perimeter(self):\n",
    "        return 2 * (self.width + self.height)\n",
    "\n",
    "\n",
    "class Circle(Shape):\n",
    "    def __init__(self, radius):\n",
    "        self.radius = radius\n",
    "    \n",
    "    def calculate_area(self):\n",
    "        return math.pi * self.radius ** 2\n",
    "    \n",
    "    def calculate_perimeter(self):\n",
    "        return 2 * math.pi * self.radius\n",
    "\n",
    "\n",
    "class Triangle(Shape):\n",
    "    def __init__(self, a, b, c):\n",
    "        self.a = a\n",
    "        self.b = b\n",
    "        self.c = c\n",
    "    \n",
    "    def calculate_area(self):\n",
    "        s = (self.a + self.b + self.c) / 2\n",
    "        return math.sqrt(s * (s - self.a) * (s - self.b) * (s - self.c))\n",
    "    \n",
    "    def calculate_perimeter(self):\n",
    "        return self.a + self.b + self.c\n",
    "\n",
    "if __name__ == \"__main__\":\n",
    "    rectangle = Rectangle(5, 3)\n",
    "    print(\"Rectangle area:\", rectangle.calculate_area())\n",
    "    print(\"Rectangle perimeter:\", rectangle.calculate_perimeter())\n",
    "    \n",
    "    circle = Circle(4)\n",
    "    print(\"Circle area:\", circle.calculate_area())\n",
    "    print(\"Circle perimeter:\", circle.calculate_perimeter())\n",
    "    \n",
    "    triangle = Triangle(3, 4, 5)\n",
    "    print(\"Triangle area:\", triangle.calculate_area())\n",
    "    print(\"Triangle perimeter:\", triangle.calculate_perimeter())"
   ]
  },
  {
   "cell_type": "markdown",
   "metadata": {},
   "source": [
    "# Q8.\n",
    "Create a class called \"Employee\" with properties for \"name\", \"id\", and \"salary\". Add methods to give\n",
    "the employee a raise and to calculate their annual salary. Create objects of this class and test out the\n",
    "methods."
   ]
  },
  {
   "cell_type": "code",
   "execution_count": 1,
   "metadata": {
    "scrolled": false
   },
   "outputs": [
    {
     "name": "stdout",
     "output_type": "stream",
     "text": [
      "How much Raise in your salary :\n",
      "20000\n",
      "New Salary : \n",
      "170000\n",
      "New Data:\n",
      "Name : Ajay\n",
      " ID: 101\n"
     ]
    }
   ],
   "source": [
    "class Employee:\n",
    "    def __init__(self,name,i,salary):\n",
    "        self.name  = name \n",
    "        self.id = i\n",
    "        self.salary = salary\n",
    "        \n",
    "    def Raise(self,m):\n",
    "        self.salary +=m\n",
    "        return self.salary\n",
    "    def annual_salary(self):\n",
    "        self.yearly_salary = self.salary*12\n",
    "        return self.yearly_salary\n",
    "    \n",
    "    def info(self):\n",
    "        print(\"Name : {}\\n ID: {}\".format(self.name,self.id))\n",
    "    \n",
    "    \n",
    "    \n",
    "        \n",
    "if __name__ ==\"__main__\":\n",
    "    x = Employee('Ajay',101,150000)\n",
    "    print(\"How much Raise in your salary :\")\n",
    "    n  = int(input())\n",
    "    print(\"New Salary : \")\n",
    "    print(x.Raise(n))\n",
    "    print(\"New Data:\")\n",
    "    x.info()\n",
    "    "
   ]
  },
  {
   "cell_type": "markdown",
   "metadata": {},
   "source": [
    "# Q9.\n",
    "Create a class called \"Book\" with properties for \"title\", \"author\", and \"publisher\". Create a subclass of\n",
    "\"Book\" called \"Ebook\" with additional properties for \"file_format\" and \"file_size\". Create objects of both\n",
    "classes and print out their properties."
   ]
  },
  {
   "cell_type": "code",
   "execution_count": 6,
   "metadata": {
    "scrolled": true
   },
   "outputs": [
    {
     "name": "stdout",
     "output_type": "stream",
     "text": [
      "Book Details \n",
      "\n",
      "Title : The way in bad time\n",
      "Author:Ajay\n",
      "Publisher:SCOM Publication\n",
      "\n",
      "\n",
      "EBook Details \n",
      "\n",
      "Title : AI\n",
      "Author:Ajay\n",
      "Publisher:SCOM Publication\n",
      "Format :PDF\n",
      "File Size :1TB\n"
     ]
    }
   ],
   "source": [
    "class Book:\n",
    "    def __init__(self,title,author,publisher):\n",
    "        self.title = title\n",
    "        self.author = author\n",
    "        self.publisher = publisher\n",
    "        \n",
    "class Ebook(Book):\n",
    "    def __init__(self,title,author,publisher,file_format,file_size):\n",
    "        super().__init__(title,author,publisher)\n",
    "        self.file_format = file_format\n",
    "        self.file_size = file_size\n",
    "    \n",
    "    \n",
    "    \n",
    "if __name__ ==\"__main__\":\n",
    "    book = Book(\"The way in bad time\",'Ajay','SCOM Publication')\n",
    "    print(\"Book Details \\n\")\n",
    "    print(\"Title : {}\".format(book.title))\n",
    "    print(\"Author:{}\".format(book.author))\n",
    "    print(\"Publisher:{}\".format(book.publisher))\n",
    "    \n",
    "    \n",
    "    ebook = Ebook(\"AI\",'Ajay','SCOM Publication','PDF','1TB')\n",
    "    print(\"\\n\\nEBook Details \\n\")\n",
    "    print(\"Title : {}\".format(ebook.title))\n",
    "    print(\"Author:{}\".format(ebook.author))\n",
    "    print(\"Publisher:{}\".format(ebook.publisher))\n",
    "    print(\"Format :{}\".format(ebook.file_format))\n",
    "    print(\"File Size :{}\".format(ebook.file_size))\n",
    "    \n",
    "    \n",
    "    \n",
    "    \n",
    "    "
   ]
  },
  {
   "cell_type": "markdown",
   "metadata": {},
   "source": [
    "# Q10.\n",
    "Create a class called \"Bank\" with properties for \"name\" and \"accounts\". Add methods to create new\n",
    "accounts, deposit and withdraw money from accounts, and to calculate the total balance of all accounts.\n",
    "Create an object of this class and test out the methods."
   ]
  },
  {
   "cell_type": "code",
   "execution_count": 9,
   "metadata": {
    "scrolled": true
   },
   "outputs": [
    {
     "name": "stdout",
     "output_type": "stream",
     "text": [
      "You want to see Details of your account : \n",
      " Press y or Y to see : \n",
      "y\n",
      "Type your Account No :123098\n",
      "Account details : \n",
      "Name : Ajay\n",
      " Account No : 123098\n",
      " Balance: 2000\n",
      "\n",
      "Add Money :\n",
      " Type for yes : y or Y \n",
      " For No : n or Ny\n",
      "Name :Ajay\n",
      "Account No: 12399\n",
      "Wrong Details:\n",
      "Want to create New Account : \n",
      "You Have one account already:\n"
     ]
    }
   ],
   "source": [
    "class Bank:\n",
    "    def __init__(self,name,account,balance=2000):\n",
    "        self.name = name \n",
    "        self.account = account\n",
    "        self.balance = balance\n",
    "        \n",
    "        \n",
    "    def create_account(self):\n",
    "        print(\"Give some datails:\")\n",
    "        self.name  = input(\"Name : \")\n",
    "        self.age = int(input(\"Age :\"))\n",
    "        self.address = input(\"Address:\")\n",
    "        print(\"You Give the details :\\n Name :  {}\\nAge : {}\\nAddress: {}\\n Your Account_No: {}\".format(self.name,self.age,self.address,(self.account)+1))\n",
    "    def deposit_money(self,m):\n",
    "        self.balance+=m\n",
    "        print(\"New Balance : {}\".format(self.balance))     \n",
    "    def withdraw_mmoney(self,l):\n",
    "        self.balance-=l\n",
    "        \n",
    "        \n",
    "        \n",
    "if __name__==\"__main__\":\n",
    "    person = Bank('Ajay',123098)\n",
    "    print(\"You want to see Details of your account : \\n Press y or Y to see : \")\n",
    "    b = input()\n",
    "    if (b.lower()== 'y') or(b.upper()=='Y'):\n",
    "        a = int(input(\"Type your Account No :\"))\n",
    "        if a==123098:\n",
    "            print(\"Account details : \\nName : {}\\n Account No : {}\\n Balance: {}\\n\".format(person.name,person.account,person.balance))\n",
    "        else:\n",
    "            print(\"Wrong Account No:\")\n",
    "    else:        \n",
    "        print(\"Next Time Type only y or Y keyword : Thank You \")\n",
    "        \n",
    "    \n",
    "    \n",
    "    n = input(\"Add Money :\\n Type for yes : y or Y \\n For No : n or N\")\n",
    "    if (n.lower() =='y')or (n.upper()=='Y'):\n",
    "        customer = input(\"Name :\")\n",
    "        c_acc = int(input(\"Account No: \"))\n",
    "        if person.name==customer and person.account == c_acc:\n",
    "            m = int(input(\"Enter Amount:\"))\n",
    "            person.deposit_money(m)\n",
    "        else:\n",
    "            print(\"Wrong Details:\")\n",
    "    else:\n",
    "        print(\"Thanks bye:\")\n",
    "        \n",
    "    print(\"Want to create New Account : \")\n",
    "    if person.name!='Ajay' and person.account!=123098:\n",
    "        person.create_account()\n",
    "    else:\n",
    "        print(\"You Have one account already:\")\n",
    "    \n",
    "    \n",
    "        \n",
    "        \n",
    "        \n",
    "        \n",
    "        \n",
    "        "
   ]
  },
  {
   "cell_type": "markdown",
   "metadata": {},
   "source": [
    "_______________________________________________________________________________\n",
    "\n",
    "                                   Completed Python-Practice-Set-4\n",
    "_______________________________________________________________________________                                   \n",
    "                                   \n",
    "\n",
    "\n",
    "\n"
   ]
  }
 ],
 "metadata": {
  "kernelspec": {
   "display_name": "Python 3",
   "language": "python",
   "name": "python3"
  },
  "language_info": {
   "codemirror_mode": {
    "name": "ipython",
    "version": 3
   },
   "file_extension": ".py",
   "mimetype": "text/x-python",
   "name": "python",
   "nbconvert_exporter": "python",
   "pygments_lexer": "ipython3",
   "version": "3.6.9"
  }
 },
 "nbformat": 4,
 "nbformat_minor": 4
}
