{
 "cells": [
  {
   "cell_type": "markdown",
   "metadata": {},
   "source": [
    "# Q1.\n",
    "Can you create a Python program that reads a text file and counts the number of words contained\n",
    "within it? The program should be designed to read the file and break it down into individual words, using\n",
    "spaces, punctuation marks, and other delimiters to separate the words. It should then count the number\n",
    "of words found in the file and display this count as output. The program should be flexible enough to work\n",
    "with different text files and should be able to handle a variety of formatting and punctuation styles."
   ]
  },
  {
   "cell_type": "markdown",
   "metadata": {},
   "source": [
    "# Notes :File Handling: \n",
    " file open() \n",
    "             file read()\n",
    "                    file readline()\n",
    "                             file write()\n",
    "                                     file append()\n",
    "                                              file delete()\n",
    "                                                           file close()"
   ]
  },
  {
   "cell_type": "code",
   "execution_count": 16,
   "metadata": {
    "scrolled": true
   },
   "outputs": [
    {
     "name": "stdout",
     "output_type": "stream",
     "text": [
      "Investigators are probing an electronic track management system that they suspect malfunctioned and caused India’s deadliest train crash in more than two decades, railways officials said on Sunday.\n",
      "At least 275 people were killed on Friday when a passenger train hit a stationary freight train, went off the tracks and hit another passenger train passing in the opposite direction in the eastern state of Odisha.\n",
      "\n"
     ]
    }
   ],
   "source": [
    "f = open(\"/home/ajay/Desktop/File1.txt\",\"r\")\n",
    "print(f.read())"
   ]
  },
  {
   "cell_type": "code",
   "execution_count": 17,
   "metadata": {
    "scrolled": true
   },
   "outputs": [
    {
     "name": "stdout",
     "output_type": "stream",
     "text": [
      "Inves\n"
     ]
    }
   ],
   "source": [
    "f = open(\"/home/ajay/Desktop/File1.txt\",\"r\")\n",
    "print(f.read(5))                                 # Read only first 5 characters"
   ]
  },
  {
   "cell_type": "code",
   "execution_count": 20,
   "metadata": {
    "scrolled": true
   },
   "outputs": [
    {
     "name": "stdout",
     "output_type": "stream",
     "text": [
      "Investigators are probing an electronic track management system \n",
      "\n",
      "that they suspect malfunctioned and caused India’s deadliest train crash in more than two decades, \n",
      "\n"
     ]
    }
   ],
   "source": [
    "f  = open(\"/home/ajay/Desktop/File1.txt\",\"r\")\n",
    "print(f.readline())                            # read one line of the file .\n",
    "print(f.readline())"
   ]
  },
  {
   "cell_type": "code",
   "execution_count": 22,
   "metadata": {
    "scrolled": true
   },
   "outputs": [
    {
     "name": "stdout",
     "output_type": "stream",
     "text": [
      "Investigators are probing an electronic track management system \n",
      "\n",
      "that they suspect malfunctioned and caused India’s deadliest train crash in more than two decades, \n",
      "\n",
      "railways officials said on Sunday.\n",
      "\n",
      "At least 275 people were killed on Friday when a passenger train hit a stationary freight train, went off the tracks and\n",
      "\n",
      " hit another passenger train passing in the opposite direction in the eastern state of Odisha.\n",
      "\n",
      "Total lines in the txt file : 5\n"
     ]
    }
   ],
   "source": [
    "f  = open(\"/home/ajay/Desktop/File1.txt\",\"r\")\n",
    "count =0\n",
    "for i in f:\n",
    "    print(i)\n",
    "    count+=1\n",
    "print(\"Total lines in the txt file : {}\".format(count))    "
   ]
  },
  {
   "cell_type": "code",
   "execution_count": 23,
   "metadata": {},
   "outputs": [],
   "source": [
    "f  = open(\"/home/ajay/Desktop/File1.txt\",\"r\")\n",
    "f.close()"
   ]
  },
  {
   "cell_type": "code",
   "execution_count": 24,
   "metadata": {},
   "outputs": [],
   "source": [
    "f  = open(\"/home/ajay/Desktop/File1.txt\",\"w\")\n",
    "\n",
    "#\"a\" - Append - will append to the end of the file\n",
    "\n",
    "#\"w\" - Write - will overwrite any existing content\n",
    "f.write(\"Investigators are probing an electronic track management system that they suspect malfunctioned and caused India’s deadliest train crash in more than two decades,\")\n",
    "f.close()\n"
   ]
  },
  {
   "cell_type": "code",
   "execution_count": 25,
   "metadata": {
    "scrolled": true
   },
   "outputs": [
    {
     "data": {
      "text/plain": [
       "'Investigators are probing an electronic track management system that they suspect malfunctioned and caused India’s deadliest train crash in more than two decades,'"
      ]
     },
     "execution_count": 25,
     "metadata": {},
     "output_type": "execute_result"
    }
   ],
   "source": [
    "f  = open(\"/home/ajay/Desktop/File1.txt\",\"r\")\n",
    "f.read()"
   ]
  },
  {
   "cell_type": "code",
   "execution_count": 27,
   "metadata": {},
   "outputs": [],
   "source": [
    "f  = open(\"/home/ajay/Desktop/File1.txt\",\"a\")\n",
    "f.write(\"hit another passenger train passing in the opposite direction in the eastern state of Odisha.\")\n",
    "f.close()"
   ]
  },
  {
   "cell_type": "code",
   "execution_count": 31,
   "metadata": {
    "scrolled": true
   },
   "outputs": [
    {
     "data": {
      "text/plain": [
       "'Investigators are probing an electronic track management system that they suspect malfunctioned and caused India’s deadliest train crash in more than two decades,hit another passenger train passing in the opposite direction in the eastern state of Odisha.'"
      ]
     },
     "execution_count": 31,
     "metadata": {},
     "output_type": "execute_result"
    }
   ],
   "source": [
    "f  = open(\"/home/ajay/Desktop/File1.txt\",\"r\")\n",
    "f.read()"
   ]
  },
  {
   "cell_type": "code",
   "execution_count": 32,
   "metadata": {},
   "outputs": [],
   "source": [
    "f.close()"
   ]
  },
  {
   "cell_type": "code",
   "execution_count": 43,
   "metadata": {
    "scrolled": true
   },
   "outputs": [
    {
     "ename": "FileExistsError",
     "evalue": "[Errno 17] File exists: 'file2.txt'",
     "output_type": "error",
     "traceback": [
      "\u001b[0;31m---------------------------------------------------------------------------\u001b[0m",
      "\u001b[0;31mFileExistsError\u001b[0m                           Traceback (most recent call last)",
      "\u001b[0;32m<ipython-input-43-bbeeea950094>\u001b[0m in \u001b[0;36m<module>\u001b[0;34m\u001b[0m\n\u001b[1;32m      2\u001b[0m \u001b[0;34m\u001b[0m\u001b[0m\n\u001b[1;32m      3\u001b[0m \u001b[0;34m\u001b[0m\u001b[0m\n\u001b[0;32m----> 4\u001b[0;31m \u001b[0mh\u001b[0m  \u001b[0;34m=\u001b[0m \u001b[0mopen\u001b[0m\u001b[0;34m(\u001b[0m\u001b[0;34m\"file2.txt\"\u001b[0m\u001b[0;34m,\u001b[0m \u001b[0;34m\"x\"\u001b[0m\u001b[0;34m)\u001b[0m\u001b[0;34m\u001b[0m\u001b[0;34m\u001b[0m\u001b[0m\n\u001b[0m\u001b[1;32m      5\u001b[0m \u001b[0mh\u001b[0m\u001b[0;34m.\u001b[0m\u001b[0mwrite\u001b[0m\u001b[0;34m(\u001b[0m\u001b[0;34m\"Maa Pitagee\"\u001b[0m\u001b[0;34m)\u001b[0m\u001b[0;34m\u001b[0m\u001b[0;34m\u001b[0m\u001b[0m\n\u001b[1;32m      6\u001b[0m \u001b[0mh\u001b[0m\u001b[0;34m.\u001b[0m\u001b[0mclose\u001b[0m\u001b[0;34m(\u001b[0m\u001b[0;34m)\u001b[0m\u001b[0;34m\u001b[0m\u001b[0;34m\u001b[0m\u001b[0m\n",
      "\u001b[0;31mFileExistsError\u001b[0m: [Errno 17] File exists: 'file2.txt'"
     ]
    }
   ],
   "source": [
    "#\"x\" - Create - will create a file, returns an error if the file exist\n",
    "\n",
    "\n",
    "h  = open(\"file2.txt\", \"x\")\n"
   ]
  },
  {
   "cell_type": "code",
   "execution_count": 44,
   "metadata": {},
   "outputs": [],
   "source": [
    "h  = open(\"file2.txt\",\"a\")\n",
    "h.write(\"Maa: SMT. Om Wati Devi \\n Pitagee : Sh. Sulekh Chand Ji\")\n",
    "h.close()"
   ]
  },
  {
   "cell_type": "code",
   "execution_count": 47,
   "metadata": {
    "scrolled": true
   },
   "outputs": [
    {
     "data": {
      "text/plain": [
       "'Maa: SMT. Om Wati Devi \\n'"
      ]
     },
     "execution_count": 47,
     "metadata": {},
     "output_type": "execute_result"
    }
   ],
   "source": [
    "h  = open(\"file2.txt\",\"r\")\n",
    "h.readline()"
   ]
  },
  {
   "cell_type": "code",
   "execution_count": 48,
   "metadata": {},
   "outputs": [],
   "source": [
    "import os\n",
    "if os.path.exists(\"/home/ajay/Desktop/file2.txt\"):\n",
    "    os.remove(\"/home/ajay/Desktop/file2.txt\")\n",
    "else:\n",
    "    print(\"The file does not exist\")"
   ]
  },
  {
   "cell_type": "code",
   "execution_count": 49,
   "metadata": {},
   "outputs": [
    {
     "name": "stdout",
     "output_type": "stream",
     "text": [
      "The file does not exist\n"
     ]
    }
   ],
   "source": [
    "if os.path.exists(\"/home/ajay/Desktop/file2.txt\"):\n",
    "    os.remove(\"/home/ajay/Desktop/file2.txt\")\n",
    "else:\n",
    "    print(\"The file does not exist\")"
   ]
  },
  {
   "cell_type": "markdown",
   "metadata": {},
   "source": [
    "# Answer(Q1:)"
   ]
  },
  {
   "cell_type": "code",
   "execution_count": 37,
   "metadata": {},
   "outputs": [
    {
     "name": "stdout",
     "output_type": "stream",
     "text": [
      "______________________________________________\n",
      "Line 1 no of character with gap  : 65\n",
      " \n",
      "______________________________________________\n",
      "Line 2 no of character with gap  : 86\n",
      " \n",
      "______________________________________________\n",
      "Line 3 no of character with gap  : 75\n",
      " \n",
      "______________________________________________\n",
      "Line 4 no of character with gap  : 54\n",
      " \n",
      "_______________________________________________________\n",
      "*******************************************************\n",
      "Total number of Lines in this file: 4\n",
      "_______________________________________________________\n",
      " Total Gap in all lines  : 55\n",
      "_______________________________________________________\n",
      "Total Character in all 4 lines  : 225\n",
      "________________________________________________________\n",
      "Total Number of words in Given file : 38\n"
     ]
    }
   ],
   "source": [
    "with open(\"/home/ajay/Desktop/File1.txt\",'r') as f:\n",
    "    total_world = 0\n",
    "    i=1\n",
    "    line_no = 0\n",
    "    total = 0\n",
    "    total_words=0\n",
    "    for line in f:\n",
    "        words = len(line)\n",
    "        print(\"______________________________________________\")\n",
    "        print(\"Line {} no of character with gap  : {}\".format(i,words))\n",
    "        print(\" \")\n",
    "        i+=1\n",
    "        line_no+=1\n",
    "        total+=words\n",
    "        y = len(line.split())\n",
    "        total_words+=y  \n",
    "    \n",
    "    \n",
    "    print(\"_______________________________________________________\")\n",
    "    print(\"*******************************************************\")\n",
    "    print(\"Total number of Lines in this file: {}\".format(line_no)) \n",
    "    print(\"_______________________________________________________\")\n",
    "    print(\" Total Gap in all lines  : {}\".format(line.count('')))\n",
    "    print(\"_______________________________________________________\")\n",
    "    print(\"Total Character in all {} lines  : {}\".format(line_no,total-line.count('')))\n",
    "    print(\"________________________________________________________\")\n",
    "    print(\"Total Number of words in Given file : {}\".format(total_words))\n",
    "        \n",
    "        "
   ]
  },
  {
   "cell_type": "markdown",
   "metadata": {},
   "source": [
    "# Q2.\n",
    "Could you help me create a Python program that can find and display the longest word in a text file?\n",
    "The program should be able to read any text file and separate its contents into individual words, taking\n",
    "into account various delimiters like spaces, punctuation marks, and other characters. Then, it should\n",
    "compare the length of each word and determine which one is the longest, and finally, print that word as\n",
    "output. The program should be versatile enough to work with various text files and be able to handle\n",
    "different formatting styles and punctuation."
   ]
  },
  {
   "cell_type": "code",
   "execution_count": 36,
   "metadata": {
    "scrolled": true
   },
   "outputs": [
    {
     "name": "stdout",
     "output_type": "stream",
     "text": [
      "The longest word is: verymuchclearlyfocus.\n"
     ]
    }
   ],
   "source": [
    "with open(\"/home/ajay/Desktop/File1.txt\", \"r\") as file:\n",
    "    text = file.read()\n",
    "    words = text.split()\n",
    "\n",
    "longest_word = max(words, key=len)\n",
    "print(\"The longest word is:\", longest_word)"
   ]
  },
  {
   "cell_type": "code",
   "execution_count": 43,
   "metadata": {},
   "outputs": [
    {
     "ename": "FileExistsError",
     "evalue": "[Errno 17] File exists: '/home/ajay/Desktop/File2.txt'",
     "output_type": "error",
     "traceback": [
      "\u001b[0;31m---------------------------------------------------------------------------\u001b[0m",
      "\u001b[0;31mFileExistsError\u001b[0m                           Traceback (most recent call last)",
      "\u001b[0;32m<ipython-input-43-466af9565c91>\u001b[0m in \u001b[0;36m<module>\u001b[0;34m\u001b[0m\n\u001b[0;32m----> 1\u001b[0;31m \u001b[0;32mwith\u001b[0m \u001b[0mopen\u001b[0m\u001b[0;34m(\u001b[0m\u001b[0;34m'/home/ajay/Desktop/File2.txt'\u001b[0m\u001b[0;34m,\u001b[0m\u001b[0;34m'x'\u001b[0m\u001b[0;34m)\u001b[0m \u001b[0;32mas\u001b[0m \u001b[0mnew_file\u001b[0m\u001b[0;34m:\u001b[0m\u001b[0;34m\u001b[0m\u001b[0;34m\u001b[0m\u001b[0m\n\u001b[0m\u001b[1;32m      2\u001b[0m     new_file.write(\"\"\" The National Testing Agency (NTA) has issued the CSIR NET 2023 Admit Card for \n\u001b[1;32m      3\u001b[0m \u001b[0mthe\u001b[0m \u001b[0mJune\u001b[0m \u001b[0msession\u001b[0m \u001b[0mexam\u001b[0m\u001b[0;34m.\u001b[0m \u001b[0mCandidates\u001b[0m \u001b[0mwho\u001b[0m \u001b[0mhave\u001b[0m \u001b[0mregistered\u001b[0m \u001b[0;32mfor\u001b[0m \u001b[0mthe\u001b[0m \u001b[0mCouncil\u001b[0m \u001b[0mof\u001b[0m \u001b[0mScientific\u001b[0m \u001b[0;34m&\u001b[0m \u001b[0mIndustrial\u001b[0m \u001b[0mResearch\u001b[0m\u001b[0;34m,\u001b[0m\u001b[0;34m\u001b[0m\u001b[0;34m\u001b[0m\u001b[0m\n\u001b[1;32m      4\u001b[0m \u001b[0mCSIR\u001b[0m \u001b[0mNET\u001b[0m \u001b[0mJune\u001b[0m \u001b[0mcan\u001b[0m \u001b[0mdownload\u001b[0m \u001b[0mthe\u001b[0m \u001b[0mhall\u001b[0m \u001b[0mticket\u001b[0m \u001b[0;32mfrom\u001b[0m \u001b[0mthe\u001b[0m \u001b[0mofficial\u001b[0m \u001b[0mwebsite\u001b[0m \u001b[0mat\u001b[0m \u001b[0mcsirnet\u001b[0m\u001b[0;34m.\u001b[0m\u001b[0mnta\u001b[0m\u001b[0;34m.\u001b[0m\u001b[0mnic\u001b[0m\u001b[0;34m.\u001b[0m\u001b[0;32min\u001b[0m\u001b[0;34m.\u001b[0m\u001b[0;34m\u001b[0m\u001b[0;34m\u001b[0m\u001b[0m\n\u001b[1;32m      5\u001b[0m \u001b[0mCandidates\u001b[0m \u001b[0mcan\u001b[0m \u001b[0maccess\u001b[0m \u001b[0mthe\u001b[0m \u001b[0mCSIR\u001b[0m \u001b[0mNET\u001b[0m \u001b[0;36m2023\u001b[0m \u001b[0mhall\u001b[0m \u001b[0mticket\u001b[0m \u001b[0mby\u001b[0m \u001b[0msimply\u001b[0m \u001b[0mlogging\u001b[0m \u001b[0;32min\u001b[0m \u001b[0;32mwith\u001b[0m \u001b[0mtheir\u001b[0m \u001b[0mapplication\u001b[0m \u001b[0mnumber\u001b[0m \u001b[0;32mand\u001b[0m\u001b[0;34m\u001b[0m\u001b[0;34m\u001b[0m\u001b[0m\n",
      "\u001b[0;31mFileExistsError\u001b[0m: [Errno 17] File exists: '/home/ajay/Desktop/File2.txt'"
     ]
    }
   ],
   "source": [
    "with open('/home/ajay/Desktop/File2.txt','x') as new_file:\n",
    "    new_file.write(\"\"\" The National Testing Agency (NTA) has issued the CSIR NET 2023 Admit Card for \n",
    "the June session exam. Candidates who have registered for the Council of Scientific & Industrial Research,\n",
    "CSIR NET June can download the hall ticket from the official website at csirnet.nta.nic.in.\n",
    "Candidates can access the CSIR NET 2023 hall ticket by simply logging in with their application number and \n",
    "date of birth on the official portal. The National Testing Agency (NTA) will be conducting the Joint \n",
    "CSIR-UGC NET Examination December 2022 – June 2023 for Junior Research Fellowship (JRF) and for Lectureship in\n",
    "Computer Based Test (CBT) mode on June 6, 7 and 8, 2023. The exam will be held in two shifts - 9:00 AM to \n",
    "12:00 Noon and 3:00 PM to 6:00 PM.\"\"\")\n",
    "\n",
    "              \n",
    "\n",
    "    \n",
    "    \n",
    "    \n",
    "    \n",
    "    "
   ]
  },
  {
   "cell_type": "markdown",
   "metadata": {},
   "source": [
    "# Q3.\n",
    "Write a Python program to read a text file and print out the most frequent word(s) in the file."
   ]
  },
  {
   "cell_type": "code",
   "execution_count": 44,
   "metadata": {
    "scrolled": true
   },
   "outputs": [
    {
     "name": "stdout",
     "output_type": "stream",
     "text": [
      "Most frequent word(s):\n",
      "the: 11 times\n"
     ]
    }
   ],
   "source": [
    "from collections import Counter\n",
    "\n",
    "\n",
    "with open('/home/ajay/Desktop/File2.txt', 'r') as file:\n",
    "    text = file.read()\n",
    "# Remove special characters and split the text into words\n",
    "words = text.lower().replace('\\n', ' ').split()\n",
    "\n",
    "# Count the frequency of each word using Counter from collections module\n",
    "word_count = Counter(words)\n",
    "\n",
    "# Find the most frequent word(s)\n",
    "most_common = word_count.most_common()\n",
    "\n",
    "# Get the count of the most frequent word(s)\n",
    "max_count = most_common[0][1]\n",
    "\n",
    "# Print out all the words that have the same maximum frequency\n",
    "print(\"Most frequent word(s):\")\n",
    "for word, count in most_common:\n",
    "    if count == max_count:\n",
    "        print(f\"{word}: {count} times\")\n",
    "    else:\n",
    "        break"
   ]
  },
  {
   "cell_type": "markdown",
   "metadata": {},
   "source": [
    "# Q4.\n",
    "How can you use Python to count the number of rows in a CSV file?"
   ]
  },
  {
   "cell_type": "code",
   "execution_count": 46,
   "metadata": {},
   "outputs": [
    {
     "name": "stdout",
     "output_type": "stream",
     "text": [
      "The number of rows in /home/ajay/kaggle-data/ds_salaries.csv ===> 3756\n"
     ]
    }
   ],
   "source": [
    "import csv\n",
    "\n",
    "filename = \"/home/ajay/kaggle-data/ds_salaries.csv\"  # replace with the name of your CSV file\n",
    "\n",
    "with open(filename, 'r') as csvfile:\n",
    "    reader = csv.reader(csvfile)\n",
    "    num_rows = sum(1 for row in reader)\n",
    "\n",
    "print(f\"The number of rows in {filename} ===> {num_rows}\")"
   ]
  },
  {
   "cell_type": "markdown",
   "metadata": {},
   "source": [
    "# Q5.\n",
    "How can you use Python to calculate the average of a specific column in a CSV file?"
   ]
  },
  {
   "cell_type": "code",
   "execution_count": 12,
   "metadata": {
    "scrolled": true
   },
   "outputs": [
    {
     "ename": "ValueError",
     "evalue": "could not convert string to float: 'FT'",
     "output_type": "error",
     "traceback": [
      "\u001b[0;31m---------------------------------------------------------------------------\u001b[0m",
      "\u001b[0;31mValueError\u001b[0m                                Traceback (most recent call last)",
      "\u001b[0;32m<ipython-input-12-92984b1eaff2>\u001b[0m in \u001b[0;36m<module>\u001b[0;34m\u001b[0m\n\u001b[1;32m      7\u001b[0m     \u001b[0mreader\u001b[0m \u001b[0;34m=\u001b[0m \u001b[0mcsv\u001b[0m\u001b[0;34m.\u001b[0m\u001b[0mreader\u001b[0m\u001b[0;34m(\u001b[0m\u001b[0mcsvfile\u001b[0m\u001b[0;34m)\u001b[0m\u001b[0;34m\u001b[0m\u001b[0;34m\u001b[0m\u001b[0m\n\u001b[1;32m      8\u001b[0m     \u001b[0mnext\u001b[0m\u001b[0;34m(\u001b[0m\u001b[0mreader\u001b[0m\u001b[0;34m)\u001b[0m  \u001b[0;31m# skip header row\u001b[0m\u001b[0;34m\u001b[0m\u001b[0;34m\u001b[0m\u001b[0m\n\u001b[0;32m----> 9\u001b[0;31m     \u001b[0mvalues\u001b[0m \u001b[0;34m=\u001b[0m  \u001b[0;34m[\u001b[0m\u001b[0mfloat\u001b[0m\u001b[0;34m(\u001b[0m\u001b[0mrow\u001b[0m\u001b[0;34m[\u001b[0m\u001b[0mcolumn_index\u001b[0m\u001b[0;34m]\u001b[0m\u001b[0;34m)\u001b[0m \u001b[0;32mfor\u001b[0m \u001b[0mrow\u001b[0m \u001b[0;32min\u001b[0m \u001b[0mreader\u001b[0m\u001b[0;34m]\u001b[0m\u001b[0;34m\u001b[0m\u001b[0;34m\u001b[0m\u001b[0m\n\u001b[0m\u001b[1;32m     10\u001b[0m \u001b[0;34m\u001b[0m\u001b[0m\n\u001b[1;32m     11\u001b[0m \u001b[0maverage\u001b[0m \u001b[0;34m=\u001b[0m \u001b[0msum\u001b[0m\u001b[0;34m(\u001b[0m\u001b[0mvalues\u001b[0m\u001b[0;34m)\u001b[0m \u001b[0;34m/\u001b[0m \u001b[0mlen\u001b[0m\u001b[0;34m(\u001b[0m\u001b[0mvalues\u001b[0m\u001b[0;34m)\u001b[0m\u001b[0;34m\u001b[0m\u001b[0;34m\u001b[0m\u001b[0m\n",
      "\u001b[0;32m<ipython-input-12-92984b1eaff2>\u001b[0m in \u001b[0;36m<listcomp>\u001b[0;34m(.0)\u001b[0m\n\u001b[1;32m      7\u001b[0m     \u001b[0mreader\u001b[0m \u001b[0;34m=\u001b[0m \u001b[0mcsv\u001b[0m\u001b[0;34m.\u001b[0m\u001b[0mreader\u001b[0m\u001b[0;34m(\u001b[0m\u001b[0mcsvfile\u001b[0m\u001b[0;34m)\u001b[0m\u001b[0;34m\u001b[0m\u001b[0;34m\u001b[0m\u001b[0m\n\u001b[1;32m      8\u001b[0m     \u001b[0mnext\u001b[0m\u001b[0;34m(\u001b[0m\u001b[0mreader\u001b[0m\u001b[0;34m)\u001b[0m  \u001b[0;31m# skip header row\u001b[0m\u001b[0;34m\u001b[0m\u001b[0;34m\u001b[0m\u001b[0m\n\u001b[0;32m----> 9\u001b[0;31m     \u001b[0mvalues\u001b[0m \u001b[0;34m=\u001b[0m  \u001b[0;34m[\u001b[0m\u001b[0mfloat\u001b[0m\u001b[0;34m(\u001b[0m\u001b[0mrow\u001b[0m\u001b[0;34m[\u001b[0m\u001b[0mcolumn_index\u001b[0m\u001b[0;34m]\u001b[0m\u001b[0;34m)\u001b[0m \u001b[0;32mfor\u001b[0m \u001b[0mrow\u001b[0m \u001b[0;32min\u001b[0m \u001b[0mreader\u001b[0m\u001b[0;34m]\u001b[0m\u001b[0;34m\u001b[0m\u001b[0;34m\u001b[0m\u001b[0m\n\u001b[0m\u001b[1;32m     10\u001b[0m \u001b[0;34m\u001b[0m\u001b[0m\n\u001b[1;32m     11\u001b[0m \u001b[0maverage\u001b[0m \u001b[0;34m=\u001b[0m \u001b[0msum\u001b[0m\u001b[0;34m(\u001b[0m\u001b[0mvalues\u001b[0m\u001b[0;34m)\u001b[0m \u001b[0;34m/\u001b[0m \u001b[0mlen\u001b[0m\u001b[0;34m(\u001b[0m\u001b[0mvalues\u001b[0m\u001b[0;34m)\u001b[0m\u001b[0;34m\u001b[0m\u001b[0;34m\u001b[0m\u001b[0m\n",
      "\u001b[0;31mValueError\u001b[0m: could not convert string to float: 'FT'"
     ]
    }
   ],
   "source": [
    "import csv\n",
    "\n",
    "filename = \"ds_salaries.csv\"  # replace with the name of your CSV file\n",
    "column_index = 2  # replace with the index of the column you want to calculate the average of\n",
    "\n",
    "with open(filename, 'r') as csvfile:\n",
    "    reader = csv.reader(csvfile)\n",
    "    next(reader)  # skip header row\n",
    "    values =  [float(row[column_index]) for row in reader]\n",
    "\n",
    "average = sum(values) / len(values)\n",
    "print(f\"The average of column {column_index} in {filename} is {average}\")"
   ]
  },
  {
   "cell_type": "markdown",
   "metadata": {},
   "source": [
    "# Q6.\n",
    "Write a Python program to read a JSON file and print out the value of a specified key."
   ]
  },
  {
   "cell_type": "code",
   "execution_count": 24,
   "metadata": {
    "scrolled": true
   },
   "outputs": [
    {
     "name": "stdout",
     "output_type": "stream",
     "text": [
      "The value of key 2 in iris.json is \n",
      "_____________________________________\n",
      " key 2 data ==> {'sepalLength': 4.7, 'sepalWidth': 3.2, 'petalLength': 1.3, 'petalWidth': 0.2, 'species': 'setosa'}\n"
     ]
    }
   ],
   "source": [
    "import json\n",
    "\n",
    "filename = \"iris.json\"  # replace with the name of your JSON file\n",
    "key = 2  # replace with the key you want to get the value of\n",
    "\n",
    "with open(filename, 'r') as jsonfile:\n",
    "    data = json.load(jsonfile)\n",
    "\n",
    "value = data[key]\n",
    "print(f\"The value of key {key} in {filename} is \\n_____________________________________\\n key {key} data ==> {value}\")"
   ]
  },
  {
   "cell_type": "markdown",
   "metadata": {},
   "source": [
    "# Q7. \n",
    "Can you provide a Python code snippet to write a list of strings into a text file where each string is\n",
    "written on a new line?"
   ]
  },
  {
   "cell_type": "code",
   "execution_count": 25,
   "metadata": {},
   "outputs": [],
   "source": [
    "strings = [\"Hello\", \"world\", \"how\", \"are\", \"you\"]\n",
    "filename = \"File1.txt\"  # replace with the name of the text file you want to create\n",
    "\n",
    "with open(filename, 'w') as textfile:\n",
    "    for s in strings:\n",
    "        textfile.write(s + '\\n')"
   ]
  },
  {
   "cell_type": "markdown",
   "metadata": {},
   "source": [
    "# Q8. \n",
    "Can you provide a Python code to read a binary file and display the data in hexadecimal format."
   ]
  },
  {
   "cell_type": "code",
   "execution_count": 30,
   "metadata": {
    "scrolled": false
   },
   "outputs": [
    {
     "name": "stdout",
     "output_type": "stream",
     "text": [
      "The hexadecimal representation of the binary data in snapshot_blob.bin is:\n",
      "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\n"
     ]
    }
   ],
   "source": [
    "import binascii\n",
    "\n",
    "filename = \"snapshot_blob.bin\"  # replace with the name of your binary file\n",
    "\n",
    "with open(filename, 'rb') as binaryfile:\n",
    "    binary_data = binaryfile.read()\n",
    "    hex_data = binascii.hexlify(binary_data).decode()\n",
    "\n",
    "print(f\"The hexadecimal representation of the binary data in {filename} is:\\n{hex_data}\")"
   ]
  },
  {
   "cell_type": "markdown",
   "metadata": {},
   "source": [
    "# Q9. \n",
    "Can you write a Python code to read a Comma-Separated Values (CSV) file, apply a specific condition to each row, and create a new CSV file that contains only the rows that satisfy the condition? For example, if the CSV file contains information about products and their prices, you may want to create a new CSV file that only includes the products that are within a certain price range. The program should be able to read the CSV file, compare the values in each row to the specified condition, and write the rows that meet the criteria to a new CSV file.\n"
   ]
  },
  {
   "cell_type": "code",
   "execution_count": 15,
   "metadata": {
    "scrolled": true
   },
   "outputs": [
    {
     "name": "stdout",
     "output_type": "stream",
     "text": [
      "Total ML Engineer in this CSV file  = 34\n"
     ]
    }
   ],
   "source": [
    "import csv\n",
    "\n",
    "input_filename = \"ds_salaries.csv\"  # replace with the name of your input CSV file\n",
    "output_filename = \"ds_salaries1.csv\"  # replace with the name of the output CSV file\n",
    "condition_column_index = 3  # replace with the index of the column to apply the condition to\n",
    "condition_value = 'ML Engineer' # replace with the value that the condition column should have to include the row\n",
    "\n",
    "with open(input_filename, 'r') as input_file, open(output_filename, 'w', newline='') as output_file:\n",
    "    reader = csv.reader(input_file)\n",
    "    writer = csv.writer(output_file)\n",
    "    \n",
    "    count = 0\n",
    "    for row in reader:\n",
    "        if row[condition_column_index] == condition_value:\n",
    "            writer.writerow(row)\n",
    "            count+=1\n",
    "            \n",
    "            \n",
    "            \n",
    "    print(\"Total ML Engineer in this CSV file  = {}\".format(count))        "
   ]
  },
  {
   "cell_type": "markdown",
   "metadata": {},
   "source": [
    "# Q10.\n",
    "Write a Python program to read a text file, count the frequency of each word, and write the results to a new text file.\n"
   ]
  },
  {
   "cell_type": "code",
   "execution_count": 17,
   "metadata": {},
   "outputs": [],
   "source": [
    "input_filename = \"File1.txt\"  # replace with the name of your input text file\n",
    "output_filename = \"File11.txt\"  # replace with the name of the output text file\n",
    "\n",
    "# Define a function to count the frequency of each word in a list\n",
    "def count_word_frequency(words):\n",
    "    frequency = {}\n",
    "    for word in words:\n",
    "        if word in frequency:\n",
    "            frequency[word] += 1\n",
    "        else:\n",
    "            frequency[word] = 1\n",
    "    return frequency\n",
    "\n",
    "# Read the input text file and count the frequency of each word\n",
    "with open(input_filename, 'r') as input_file:\n",
    "    text = input_file.read()\n",
    "    words = text.split()\n",
    "    word_frequency = count_word_frequency(words)\n",
    "\n",
    "# Write the word frequency data to the output text file\n",
    "with open(output_filename, 'w') as output_file:\n",
    "    for word, count in word_frequency.items():\n",
    "        output_file.write(f\"{word}: {count}\\n\")"
   ]
  },
  {
   "cell_type": "markdown",
   "metadata": {},
   "source": [
    "________________________________________________________________________________________________\n",
    "\n",
    "                                  Completed Python-Practice-Set-5:\n",
    "________________________________________________________________________________________________\n"
   ]
  }
 ],
 "metadata": {
  "kernelspec": {
   "display_name": "Python 3",
   "language": "python",
   "name": "python3"
  },
  "language_info": {
   "codemirror_mode": {
    "name": "ipython",
    "version": 3
   },
   "file_extension": ".py",
   "mimetype": "text/x-python",
   "name": "python",
   "nbconvert_exporter": "python",
   "pygments_lexer": "ipython3",
   "version": "3.6.9"
  }
 },
 "nbformat": 4,
 "nbformat_minor": 4
}
