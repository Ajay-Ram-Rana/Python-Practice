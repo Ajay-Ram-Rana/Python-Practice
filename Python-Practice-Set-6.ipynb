{
 "cells": [
  {
   "cell_type": "markdown",
   "metadata": {},
   "source": [
    "# Q1.\n",
    "Write a program that prints the first 10 even numbers using a for loop."
   ]
  },
  {
   "cell_type": "code",
   "execution_count": 6,
   "metadata": {
    "scrolled": true
   },
   "outputs": [
    {
     "name": "stdout",
     "output_type": "stream",
     "text": [
      "How many Even Number you want to print : 15\n",
      "Total  First 15 Even Numbers : [0, 2, 4, 6, 8, 10, 12, 14, 16, 18, 20, 22, 24, 26, 28]\n",
      " Length of List of Even Numbers : 15\n"
     ]
    }
   ],
   "source": [
    "n  = int(input(\"How many Even Number you want to print : \"))\n",
    "count = 1\n",
    "i = 0\n",
    "even_numbers =[]\n",
    "while count<=n:\n",
    "    if i%2==0:\n",
    "        even_numbers.append(i)\n",
    "        #print(f\"{count}th  Even : {i} \")\n",
    "        count+=1\n",
    "        i+=1\n",
    "    else:\n",
    "        i+=1\n",
    "        \n",
    "\n",
    "print(f\"Total  First {n} Even Numbers : {even_numbers}\\n Length of List of Even Numbers : {len(even_numbers)}\") \n",
    "\n",
    "        "
   ]
  },
  {
   "cell_type": "markdown",
   "metadata": {},
   "source": [
    "# Q2.\n",
    "Write a program that takes a list of strings and prints out each string in reverse order using a for loop."
   ]
  },
  {
   "cell_type": "code",
   "execution_count": 14,
   "metadata": {},
   "outputs": [
    {
     "name": "stdout",
     "output_type": "stream",
     "text": [
      "Give String with pressing space key : Ajay Suman Radha Neelam Aarti Mithi\n",
      "You Give this list of string : ['Ajay', 'Suman', 'Radha', 'Neelam', 'Aarti', 'Mithi']\n",
      "After Reverse Each String : \n"
     ]
    },
    {
     "data": {
      "text/plain": [
       "['yajA', 'namuS', 'ahdaR', 'maleeN', 'itraA', 'ihtiM']"
      ]
     },
     "execution_count": 14,
     "metadata": {},
     "output_type": "execute_result"
    }
   ],
   "source": [
    "def reverse(s):\n",
    "    return s[::-1]\n",
    "\n",
    "def reverse_string_list(l):\n",
    "    reverse_list = []    \n",
    "    for i in range(len(l)):\n",
    "        reverse_list.append(reverse(l[i]))\n",
    "        \n",
    "    return reverse_list    \n",
    "        \n",
    "        \n",
    "    \n",
    "\n",
    "\n",
    "\n",
    "list_string = input(\"Give String with pressing space key : \").split()\n",
    "print(f\"You Give this list of string : {list_string}\")\n",
    "\n",
    "print(\"After Reverse Each String : \")\n",
    "reverse_string_list(list_string)\n",
    "         "
   ]
  },
  {
   "cell_type": "markdown",
   "metadata": {},
   "source": [
    "# Q3.\n",
    "Write a program that prints the multiplication table of a given number using a for loop."
   ]
  },
  {
   "cell_type": "code",
   "execution_count": 15,
   "metadata": {},
   "outputs": [
    {
     "name": "stdout",
     "output_type": "stream",
     "text": [
      "Give the Number for which you want a table  :  9\n",
      "9 x 1 = 9\n",
      "9 x 2 = 18\n",
      "9 x 3 = 27\n",
      "9 x 4 = 36\n",
      "9 x 5 = 45\n",
      "9 x 6 = 54\n",
      "9 x 7 = 63\n",
      "9 x 8 = 72\n",
      "9 x 9 = 81\n",
      "9 x 10 = 90\n"
     ]
    }
   ],
   "source": [
    "n  = int(input(\"Give the Number for which you want a table  :  \"))\n",
    "for i in range(1,11):\n",
    "    print(\"{} x {} = {}\".format(n,i,n*i))"
   ]
  },
  {
   "cell_type": "markdown",
   "metadata": {},
   "source": [
    "# Q4.\n",
    "Write a program that takes a list of integers as input and returns the sum of all the numbers in the list\n",
    "using a for loop."
   ]
  },
  {
   "cell_type": "code",
   "execution_count": 20,
   "metadata": {},
   "outputs": [
    {
     "name": "stdout",
     "output_type": "stream",
     "text": [
      "Give the Integers  with press space key :109 100 11 10 123 -23 -67\n",
      "You give the list of Integers : ['109', '100', '11', '10', '123', '-23', '-67']\n",
      "Sum Of all integers in the List : 263\n"
     ]
    }
   ],
   "source": [
    "n  = input(\"Give the Integers  with press space key :\").split()\n",
    "print(\"You give the list of Integers : {}\".format(n))\n",
    "sum = 0 \n",
    "for i in range(len(n)):\n",
    "    sum+=int(n[i])\n",
    "    \n",
    "print(\"Sum Of all integers in the List : {}\".format(sum))    "
   ]
  },
  {
   "cell_type": "markdown",
   "metadata": {},
   "source": [
    "# Q5.\n",
    "Write a program that prompts the user for a positive integer and then prints out all the prime\n",
    "numbers up to that number using a for loop."
   ]
  },
  {
   "cell_type": "code",
   "execution_count": 45,
   "metadata": {
    "scrolled": true
   },
   "outputs": [
    {
     "name": "stdout",
     "output_type": "stream",
     "text": [
      "Give any positive integers : 50\n",
      "1 Prime Number : 2\n",
      "2 Prime Number : 3\n",
      "3 Prime Number : 5\n",
      "4 Prime Number : 7\n",
      "5 Prime Number : 11\n",
      "6 Prime Number : 13\n",
      "7 Prime Number : 17\n",
      "8 Prime Number : 19\n",
      "9 Prime Number : 23\n",
      "10 Prime Number : 29\n",
      "11 Prime Number : 31\n",
      "12 Prime Number : 37\n",
      "13 Prime Number : 41\n",
      "14 Prime Number : 43\n",
      "15 Prime Number : 47\n"
     ]
    }
   ],
   "source": [
    "def prime_number(m):\n",
    "    prime = None\n",
    "    if m is 2:\n",
    "        return m\n",
    "    if m>2:\n",
    "        for j in range(2,m):\n",
    "            if m%j!=0:\n",
    "                prime = m                                          \n",
    "            else:\n",
    "                prime = None\n",
    "                break           \n",
    "     \n",
    "    return prime\n",
    "\n",
    "\n",
    "n  = int(input(\"Give any positive integers : \"))\n",
    "count = 1 \n",
    "\n",
    "if n>0:\n",
    "    for i in range(2,n+1):\n",
    "        if  prime_number(i) is i:\n",
    "            print(\"{} Prime Number : {}\".format(count,prime_number(i)))\n",
    "            count+=1\n",
    "            \n",
    "    \n",
    "    \n",
    "else:\n",
    "    print(\"Give positive integer : \")\n",
    "    \n",
    "    "
   ]
  },
  {
   "cell_type": "markdown",
   "metadata": {},
   "source": [
    "# Q6.\n",
    "Write a program that prompts the user to enter a password until the correct password is entered\n",
    "using a while loop."
   ]
  },
  {
   "cell_type": "code",
   "execution_count": 47,
   "metadata": {
    "scrolled": true
   },
   "outputs": [
    {
     "name": "stdout",
     "output_type": "stream",
     "text": [
      "Enter The Password : ajayramrana@2023\n",
      "Wrong Password \n",
      "\n",
      " Enter Correct Password  : \n",
      "AjayKumar@2023\n",
      "Wrong Password \n",
      "\n",
      " Enter Correct Password  : \n",
      "Ajaykumar@2022\n",
      "Wrong Password \n",
      "\n",
      " Enter Correct Password  : \n",
      "Ajaykumar@2023\n",
      "Correct Password :\n"
     ]
    }
   ],
   "source": [
    "correct_password = \"Ajaykumar@2023\"\n",
    "give_password = input(\"Enter The Password : \")\n",
    "\n",
    "while give_password!=correct_password:\n",
    "    print(\"Wrong Password \\n\\n Enter Correct Password  : \")\n",
    "    give_password = input()\n",
    "\n",
    "print(\"Correct Password :\")    "
   ]
  },
  {
   "cell_type": "markdown",
   "metadata": {},
   "source": [
    "# Q7.\n",
    "Write a program that takes a list of strings and prints out each string in reverse order using a while\n",
    "loop."
   ]
  },
  {
   "cell_type": "code",
   "execution_count": 55,
   "metadata": {},
   "outputs": [
    {
     "name": "stdout",
     "output_type": "stream",
     "text": [
      "Type  string with gap: Ajay Kumar Ram Rana\n",
      "You Give  : ['Ajay', 'Kumar', 'Ram', 'Rana']\n",
      "yajA\n",
      "ramuK\n",
      "maR\n",
      "anaR\n"
     ]
    }
   ],
   "source": [
    "string_list = input(\"Type  string with gap: \").split()\n",
    "\n",
    "print(\"You Give  : {}\".format(string_list))\n",
    "for string in string_list:\n",
    "    index = len(string)-1\n",
    "    while index >=0:\n",
    "        print(string[index],end= \"\")\n",
    "        index-=1\n",
    "    print()\n",
    "    \n",
    "  \n",
    "      "
   ]
  },
  {
   "cell_type": "markdown",
   "metadata": {},
   "source": [
    "# Q8.\n",
    "Write a program that prompts the user to enter a positive integer and then prints out all the Fibonacci\n",
    "numbers up to that number using a while loop."
   ]
  },
  {
   "cell_type": "code",
   "execution_count": 65,
   "metadata": {
    "scrolled": true
   },
   "outputs": [
    {
     "name": "stdout",
     "output_type": "stream",
     "text": [
      "Give a positive integer:459\n",
      "Fibonacci Sequence <= 459:\n",
      "\n",
      "__________________________________________________________________________________________________\n",
      "0,1,1,2,3,5,8,13,21,34,55,89,144,233,377,\n",
      "_____________________________________________________________________________________________________\n",
      "\n",
      "Next Number of Fibonacci Sequence is  610 \n",
      " which is out of what you give the number 459\n"
     ]
    }
   ],
   "source": [
    "n  = int(input(\"Give a positive integer:\"))\n",
    "i = 0\n",
    "j = 1\n",
    "\n",
    "print(\"Fibonacci Sequence <= {}:\\n\".format(n))\n",
    "print(\"__________________________________________________________________________________________________\")\n",
    "print(i,end=\",\")\n",
    "while j<=n:\n",
    "    \n",
    "    print(j,end=\",\")\n",
    "    temp = i\n",
    "    i = j  \n",
    "    j=temp+j\n",
    "    \n",
    "print(\"\\n_____________________________________________________________________________________________________\")\n",
    "print(\"\\nNext Number of Fibonacci Sequence is  {} \\n which is out of what you give the number {}\".format(j,n))    \n",
    "    \n",
    "    \n",
    "    \n",
    "    "
   ]
  },
  {
   "cell_type": "markdown",
   "metadata": {},
   "source": [
    "# Q9.\n",
    "Write a program that takes a list of integers as input and returns the product of all the numbers in the\n",
    "list using a while loop."
   ]
  },
  {
   "cell_type": "code",
   "execution_count": 70,
   "metadata": {},
   "outputs": [
    {
     "name": "stdout",
     "output_type": "stream",
     "text": [
      "Give positive integers :  2 8 9 10 22 -11\n",
      "You Give  : ['2', '8', '9', '10', '22', '-11']\n",
      "Product of all Numbers : -348480\n"
     ]
    }
   ],
   "source": [
    "n  = input(\"Give positive integers : \").split()\n",
    "print(\"You Give  : {}\".format(n))\n",
    "length  = len(n)\n",
    "i =0\n",
    "product = 1\n",
    "while i<length:\n",
    "    product*=int(n[i])\n",
    "    i+=1 \n",
    "\n",
    "print(\"Product of all Numbers : {}\".format(product))    \n",
    "    "
   ]
  },
  {
   "cell_type": "markdown",
   "metadata": {},
   "source": [
    "# Q10.\n",
    "Write a program that prompts the user to enter a positive integer and then prints out the factorial of\n",
    "that number using a while loop."
   ]
  },
  {
   "cell_type": "code",
   "execution_count": 80,
   "metadata": {},
   "outputs": [
    {
     "name": "stdout",
     "output_type": "stream",
     "text": [
      "Give Non negative  Number to find out the factorial : 14\n",
      "Fact(14) = 87178291200\n"
     ]
    }
   ],
   "source": [
    "n = int(input(\"Give Non negative  Number to find out the factorial : \"))\n",
    "i = n\n",
    "t =1\n",
    "factorial= 1\n",
    "if n ==0 or n==1:\n",
    "    print(\"Fact({}) = {}\".format(n,t))\n",
    "    \n",
    "elif n>0:\n",
    "    while i>0:\n",
    "        factorial*=i\n",
    "        i-=1\n",
    "    print(\"Fact({}) = {}\".format(n,factorial))\n",
    "\n",
    "else:\n",
    "    print(\"Fact({}) is not defined. \".format(n))\n",
    "\n",
    "        "
   ]
  },
  {
   "cell_type": "markdown",
   "metadata": {},
   "source": [
    "_____________________________________________________________________________________________________\n",
    "\n",
    "                            Completed Python-Practice-Set-6\n",
    "\n",
    "_____________________________________________________________________________________________________\n",
    "\n"
   ]
  }
 ],
 "metadata": {
  "kernelspec": {
   "display_name": "Python 3",
   "language": "python",
   "name": "python3"
  },
  "language_info": {
   "codemirror_mode": {
    "name": "ipython",
    "version": 3
   },
   "file_extension": ".py",
   "mimetype": "text/x-python",
   "name": "python",
   "nbconvert_exporter": "python",
   "pygments_lexer": "ipython3",
   "version": "3.6.9"
  }
 },
 "nbformat": 4,
 "nbformat_minor": 4
}
