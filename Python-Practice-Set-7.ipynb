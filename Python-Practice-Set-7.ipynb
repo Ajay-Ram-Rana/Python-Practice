{
 "cells": [
  {
   "cell_type": "markdown",
   "metadata": {},
   "source": [
    "# Q1. \n",
    "Write a program that spawns two threads. One thread should print even numbers between 0 and 10,\n",
    "and the other thread should print odd numbers between 1 and 9."
   ]
  },
  {
   "cell_type": "code",
   "execution_count": 12,
   "metadata": {
    "scrolled": true
   },
   "outputs": [
    {
     "name": "stdout",
     "output_type": "stream",
     "text": [
      "Even = 0\n",
      "Odd = 1\n",
      "Even = 2\n",
      "Odd = 3\n",
      "Even = 4\n",
      "Even = 6\n",
      "Odd = 5\n",
      "Even = 8\n",
      "Odd = 7\n",
      "Even = 10\n",
      "Odd = 9\n"
     ]
    }
   ],
   "source": [
    "import threading\n",
    "import time\n",
    "\n",
    "def print_even():\n",
    "    for i in range(0,11,2):\n",
    "        print(\"Even = {}\".format(i))\n",
    "        time.sleep(2)\n",
    "        \n",
    "def print_odd():\n",
    "    for i in range(1,10,2):\n",
    "        print(\"Odd = {}\".format(i))\n",
    "        time.sleep(3)\n",
    "        \n",
    "        \n",
    "# Create threads\n",
    "\n",
    "t1 = threading.Thread(target=print_even)\n",
    "t2 = threading.Thread(target=print_odd)\n",
    "\n",
    "\n",
    "#Start Threads\n",
    "\n",
    "t1.start()\n",
    "t2.start()\n",
    "\n",
    "\n",
    "#waits for threads to finish\n",
    "t1.join()\n",
    "t2.join()\n",
    "\n"
   ]
  },
  {
   "cell_type": "markdown",
   "metadata": {},
   "source": [
    "# Q2. \n",
    "Write a program that generates a list of random numbers and sorts them using multithreading. Use\n",
    "two threads to sort the first half and the second half of the list in parallel."
   ]
  },
  {
   "cell_type": "code",
   "execution_count": 27,
   "metadata": {},
   "outputs": [
    {
     "name": "stdout",
     "output_type": "stream",
     "text": [
      "Original List : [8, 48, 28, 74, 46, 49, 49, 3, 31, 74]\n",
      "Sorted List  : [3, 8, 28, 31, 46, 48, 49, 49, 74, 74]\n"
     ]
    }
   ],
   "source": [
    "import random \n",
    "my_list =  [random.randint(1,100) for _ in range(10)] \n",
    "print(\"Original List : {}\".format(my_list))\n",
    "\n",
    "def sort_list(start,end):\n",
    "    my_list[start:end] = sorted(my_list[start:end])\n",
    "    \n",
    "    \n",
    "t1 = threading.Thread(target = sort_list, args = (0,len(my_list)//2))\n",
    "t2 = threading.Thread(target = sort_list, args = (len(my_list)//2, len(my_list)))\n",
    "\n",
    "\n",
    "t1.start()\n",
    "t2.start()\n",
    "\n",
    "\n",
    "t1.join()\n",
    "t2.join()\n",
    "\n",
    "\n",
    "\n",
    "sorted_list = sorted(my_list)\n",
    "print(\"Sorted List  : {}\".format(sorted_list))\n"
   ]
  },
  {
   "cell_type": "markdown",
   "metadata": {},
   "source": [
    "# Q3.\n",
    "Write a program that simulates a bank account transaction. The program should create two threads,\n",
    "one for a deposit and one for a withdrawal. The deposit thread should add\n",
    "100 to the account,and the withdrawal thread should withdraw\n",
    "50 from the account. Run the program for 10 iterations."
   ]
  },
  {
   "cell_type": "code",
   "execution_count": 29,
   "metadata": {},
   "outputs": [
    {
     "name": "stdout",
     "output_type": "stream",
     "text": [
      "Deposited Balance $100  Balance is Now :100\n",
      "Deposited Balance $100  Balance is Now :200\n",
      "Deposited Balance $100  Balance is Now :300\n",
      "Deposited Balance $100  Balance is Now :400\n",
      "Deposited Balance $100  Balance is Now :500\n",
      "Deposited Balance $100  Balance is Now :600\n",
      "Deposited Balance $100  Balance is Now :700\n",
      "Deposited Balance $100  Balance is Now :800\n",
      "Deposited Balance $100  Balance is Now :900\n",
      "Deposited Balance $100  Balance is Now :1000\n",
      "Withdrawl Amount $50 Balance is Now  : 950\n",
      "Withdrawl Amount $50 Balance is Now  : 900\n",
      "Withdrawl Amount $50 Balance is Now  : 850\n",
      "Withdrawl Amount $50 Balance is Now  : 800\n",
      "Withdrawl Amount $50 Balance is Now  : 750\n",
      "Withdrawl Amount $50 Balance is Now  : 700\n",
      "Withdrawl Amount $50 Balance is Now  : 650\n",
      "Withdrawl Amount $50 Balance is Now  : 600\n",
      "Withdrawl Amount $50 Balance is Now  : 550\n",
      "Withdrawl Amount $50 Balance is Now  : 500\n"
     ]
    }
   ],
   "source": [
    "import threading\n",
    "\n",
    "\n",
    "balance = 0 \n",
    "lock = threading.Lock()\n",
    "\n",
    "def deposit():\n",
    "    global balance \n",
    "    for i in range(10):\n",
    "        lock.acquire()\n",
    "        balance+=100\n",
    "        print(\"Deposited Balance $100  Balance is Now :{}\".format(balance))\n",
    "        lock.release()\n",
    "        \n",
    "        \n",
    "def withdrawl():\n",
    "    global balance\n",
    "    for i in range(10):\n",
    "        lock.acquire()\n",
    "        balance-=50\n",
    "        print(\"Withdrawl Amount $50 Balance is Now  : {}\".format(balance))\n",
    "        lock.release()\n",
    "        \n",
    "        \n",
    "deposit_thread = threading.Thread(target = deposit)\n",
    "withdrawl_thread = threading.Thread(target = withdrawl)\n",
    "\n",
    "\n",
    "deposit_thread.start()\n",
    "withdrawl_thread.start()\n",
    "\n",
    "\n",
    "deposit_thread.join()\n",
    "withdrawl_thread.join()"
   ]
  },
  {
   "cell_type": "markdown",
   "metadata": {},
   "source": [
    "# Q4.\n",
    "Write a Python program that creates a thread to print out the current date and time every 5 seconds.\n",
    "The program should continue running until the user presses the 'q' key."
   ]
  },
  {
   "cell_type": "code",
   "execution_count": null,
   "metadata": {},
   "outputs": [
    {
     "name": "stdout",
     "output_type": "stream",
     "text": [
      "2023-06-14 16:33:33\n",
      "Date =>  23 - 06 - 14  Time=> 16: 33 : 38\n",
      "2023-06-14 16:33:38\n",
      "Date =>  23 - 06 - 14  Time=> 16: 33 : 43\n",
      "2023-06-14 16:33:43\n"
     ]
    }
   ],
   "source": [
    "import threading\n",
    "import time\n",
    "\n",
    "def print_time():\n",
    "    while True:\n",
    "        print(time.strftime(\"%Y-%m-%d %H:%M:%S\", time.localtime()))\n",
    "        time.sleep(5)\n",
    "\n",
    "t = threading.Thread(target=print_time)\n",
    "t.start()\n",
    "\n",
    "while True:\n",
    "    if input() == 'q':\n",
    "        break"
   ]
  },
  {
   "cell_type": "markdown",
   "metadata": {},
   "source": [
    "# Q5.\n",
    "Write a Python program that creates two threads. Each thread should print out the numbers from 1 to 10. The two threads should run concurrently and print out the numbers in an interleaved fashion.# "
   ]
  },
  {
   "cell_type": "code",
   "execution_count": 2,
   "metadata": {
    "scrolled": true
   },
   "outputs": [
    {
     "name": "stdout",
     "output_type": "stream",
     "text": [
      "1\n",
      "2\n",
      "3\n",
      "4\n",
      "5\n",
      "6\n",
      "7\n",
      "8\n",
      "9\n",
      "10\n",
      "1\n",
      "2\n",
      "3\n",
      "4\n",
      "5\n",
      "6\n",
      "7\n",
      "8\n",
      "9\n",
      "10\n"
     ]
    }
   ],
   "source": [
    "import threading\n",
    "\n",
    "def print_numbers(start,end):\n",
    "    for i in range(start,end+1):\n",
    "        print(i)\n",
    "\n",
    "t1 = threading.Thread(target = print_numbers ,args = (1,10))\n",
    "t2 = threading.Thread(target = print_numbers ,args = (1,10))\n",
    "\n",
    "t1.start()\n",
    "t2.start()\n",
    "\n",
    "t1.join()\n",
    "t2.join()"
   ]
  },
  {
   "cell_type": "markdown",
   "metadata": {},
   "source": [
    "# Q6.\n",
    "Write a Python program to create a shared variable between two threads and increment its value in\n",
    "each thread. "
   ]
  },
  {
   "cell_type": "code",
   "execution_count": 10,
   "metadata": {
    "scrolled": true
   },
   "outputs": [
    {
     "name": "stdout",
     "output_type": "stream",
     "text": [
      "Ist thread  shared variable = 10\n",
      "IInd thread  shared variable = 20\n",
      "Final shared var = 20\n"
     ]
    }
   ],
   "source": [
    "import threading\n",
    "\n",
    "shared_variable  = 0\n",
    "lock = threading.Lock()\n",
    "\n",
    "\n",
    "def increment_variable():\n",
    "    global shared_variable\n",
    "    lock.acquire()\n",
    "    shared_variable+=10\n",
    "    lock.release()\n",
    "    \n",
    "\n",
    "\n",
    "\n",
    "num1 = threading.Thread(target = increment_variable)\n",
    "num2 = threading.Thread(target = increment_variable)\n",
    "\n",
    "num1.start()\n",
    "print(\"Ist thread  shared variable = {}\".format(shared_variable))\n",
    "num2.start()\n",
    "print(\"IInd thread  shared variable = {}\".format(shared_variable))\n",
    "\n",
    "\n",
    "num1.join()\n",
    "num2.join()\n",
    "\n",
    "\n",
    "\n",
    "print(\"Final shared var = {}\".format(shared_variable))\n",
    "\n"
   ]
  },
  {
   "cell_type": "markdown",
   "metadata": {},
   "source": [
    "# Q7. \n",
    "Here's a Python program that creates a thread to count down from 5 to 0 and prints \"Blastoff!\" when\n",
    "the count reaches 0:"
   ]
  },
  {
   "cell_type": "code",
   "execution_count": 21,
   "metadata": {},
   "outputs": [
    {
     "name": "stdout",
     "output_type": "stream",
     "text": [
      "5\n",
      "4\n",
      "3\n",
      "2\n",
      "1\n",
      "0\n",
      "Blastoff\n"
     ]
    }
   ],
   "source": [
    "import threading\n",
    "import time\n",
    "\n",
    "def countdown_blast():\n",
    "    for i in range(5,-1,-1):\n",
    "        print(i)\n",
    "        time.sleep(2)\n",
    "    \n",
    "    print(\"Blastoff\")\n",
    "    \n",
    "t = threading.Thread(target=countdown_blast)\n",
    "t.start()\n",
    "t.join()     \n",
    "        \n",
    "      \n",
    "        "
   ]
  },
  {
   "cell_type": "markdown",
   "metadata": {},
   "source": [
    "# Q8.\n",
    "Write a program that creates a thread to print the Fibonacci sequence up to a certain number n. The\n",
    "main thread should prompt the user for the value of n."
   ]
  },
  {
   "cell_type": "code",
   "execution_count": 36,
   "metadata": {
    "scrolled": true
   },
   "outputs": [
    {
     "name": "stdout",
     "output_type": "stream",
     "text": [
      "fibonacci Sequence upto which number : 350\n",
      "0,1,1,2,3,5,8,13,21,34,55,89,144,233,\n",
      " Next Number was : 377\n"
     ]
    }
   ],
   "source": [
    "import threading\n",
    "\n",
    "\n",
    "def febonacci_seq(n):\n",
    "    a = 0\n",
    "    b = 1\n",
    "    print(a,end=\",\")\n",
    "    while b<=n:\n",
    "        print(b, end=\",\")\n",
    "        t = a\n",
    "        a = b\n",
    "        b = t+b\n",
    "    print(\"\\n Next Number was : {}\".format(b))     \n",
    "        \n",
    "n  = int(input(\"fibonacci Sequence upto which number : \"))        \n",
    "t = threading.Thread(target=febonacci_seq,args=(n,))     \n",
    "t.start()\n",
    "t.join()\n",
    "    \n",
    "    \n"
   ]
  },
  {
   "cell_type": "markdown",
   "metadata": {},
   "source": [
    "# Q9. \n",
    "Write a program that creates two threads to add and subtract numbers from a shared variable. The\n",
    "shared variable should start at 0, and each thread should perform 10 iterations of adding or subtracting a\n",
    "random integer between 1 and 10. The program should print the final value of the shared variable."
   ]
  },
  {
   "cell_type": "code",
   "execution_count": 71,
   "metadata": {},
   "outputs": [
    {
     "name": "stdout",
     "output_type": "stream",
     "text": [
      "In Ist Thread::::::>> Random Integer => 5  shared variable => 5\n",
      "In Ist Thread::::::>> Random Integer => 3  shared variable => 8\n",
      "In Ist Thread::::::>> Random Integer => 3  shared variable => 11\n",
      "In Ist Thread::::::>> Random Integer => 9  shared variable => 20\n",
      "In Ist Thread::::::>> Random Integer => 7  shared variable => 27\n",
      "In Ist Thread::::::>> Random Integer => 1  shared variable => 28\n",
      "In Ist Thread::::::>> Random Integer => 4  shared variable => 32\n",
      "In Ist Thread::::::>> Random Integer => 8  shared variable => 40\n",
      "In Ist Thread::::::>> Random Integer => 6  shared variable => 46\n",
      "In Ist Thread::::::>> Random Integer => 8  shared variable => 54\n",
      "\n",
      "\n",
      "In IInd thread::::::>> Random integer=> 3  shared variable => 51 \n",
      "In IInd thread::::::>> Random integer=> 10  shared variable => 41 \n",
      "In IInd thread::::::>> Random integer=> 3  shared variable => 38 \n",
      "In IInd thread::::::>> Random integer=> 10  shared variable => 28 \n",
      "In IInd thread::::::>> Random integer=> 8  shared variable => 20 \n",
      "In IInd thread::::::>> Random integer=> 2  shared variable => 18 \n",
      "In IInd thread::::::>> Random integer=> 9  shared variable => 9 \n",
      "In IInd thread::::::>> Random integer=> 7  shared variable => 2 \n",
      "In IInd thread::::::>> Random integer=> 5  shared variable => -3 \n",
      "In IInd thread::::::>> Random integer=> 6  shared variable => -9 \n",
      "\n",
      "The final value of Shared Variable  = -9\n"
     ]
    }
   ],
   "source": [
    "import threading\n",
    "import random\n",
    "\n",
    "shared_variable = 0 \n",
    "lock = threading.Lock()\n",
    " \n",
    "\n",
    "def add_integers():\n",
    "    global shared_variable\n",
    "    lock.acquire()\n",
    "    for i in range(10):\n",
    "        random_integers = random.randint(1,10)\n",
    "        shared_variable+=random_integers\n",
    "        print(\"In Ist Thread::::::>> Random Integer => {}  shared variable => {}\".format(random_integers,shared_variable))\n",
    "    lock.release()\n",
    "    \n",
    "def sub_integers():\n",
    "    global shared_variable\n",
    "    lock.acquire()\n",
    "    for i in range(10):\n",
    "        random_integers = random.randint(1,10)\n",
    "        shared_variable-=random_integers\n",
    "        print(\"In IInd thread::::::>> Random integer=> {}  shared variable => {} \".format(random_integers,shared_variable))\n",
    "    lock.release()\n",
    "\n",
    "    \n",
    "    \n",
    "\n",
    "\n",
    "if __name__ == \"__main__\":\n",
    "    \n",
    "    t1 = threading.Thread(target=add_integers)\n",
    "    t2 = threading.Thread(target=sub_integers)\n",
    "\n",
    "    t1.start()\n",
    "    print(\"\\n\")\n",
    "    t2.start()\n",
    "    \n",
    "    t1.join()\n",
    "    t2.join()\n",
    "    \n",
    "    print(\"\\nThe final value of Shared Variable  = {}\".format(shared_variable))\n"
   ]
  },
  {
   "cell_type": "markdown",
   "metadata": {},
   "source": [
    "# 2nd Solution :"
   ]
  },
  {
   "cell_type": "code",
   "execution_count": 74,
   "metadata": {
    "scrolled": true
   },
   "outputs": [
    {
     "name": "stdout",
     "output_type": "stream",
     "text": [
      "Added 5 to shared variable with  value =  5\n",
      "Subtracted 1 from shared variable with value =  -1\n",
      "Added 3 to shared variable with  value =  8\n",
      "Subtracted 7 from shared variable with value =  -8\n",
      "Added 5 to shared variable with  value =  13\n",
      "Subtracted 4 from shared variable with value =  -12\n",
      "Added 6 to shared variable with  value =  19Subtracted 4 from shared variable with value = \n",
      " -16\n",
      "SubtractedAdded 4 from shared variable with value =  -20\n",
      " 9 to shared variable with  value =  28\n",
      "Subtracted 2 from shared variable with value =  -22\n",
      "Added 5 to shared variable with  value =  33\n",
      "Subtracted 9Added 10 to shared variable with  value =  43\n",
      " from shared variable with value =  -31\n",
      "AddedSubtracted 5 to shared variable with  value =  48\n",
      " 3 from shared variable with value =  -34\n",
      "Added 6 to shared variable with  value =  54\n",
      "Subtracted 8 from shared variable with value =  -42\n",
      "Added 8 to shared variable with  value =  62\n",
      "Subtracted 4 from shared variable with value =  -46\n",
      "Final value of shared variable is 0\n"
     ]
    }
   ],
   "source": [
    "import threading\n",
    "import random\n",
    "import time\n",
    "\n",
    "class AddThread(threading.Thread):\n",
    "    def __init__(self, shared_var):\n",
    "        super().__init__()\n",
    "        self.shared_var = shared_var\n",
    "\n",
    "    def run(self):\n",
    "        for i in range(10):\n",
    "            num = random.randint(1, 10)\n",
    "            self.shared_var += num\n",
    "            print(\"Added\", num, \"to shared variable with  value = \",self.shared_var)\n",
    "            time.sleep(0.1)\n",
    "\n",
    "class SubtractThread(threading.Thread):\n",
    "    def __init__(self, shared_var):\n",
    "        super().__init__()\n",
    "        self.shared_var = shared_var\n",
    "\n",
    "    def run(self):\n",
    "        for i in range(10):\n",
    "            num = random.randint(1, 10)\n",
    "            self.shared_var -= num\n",
    "            print(\"Subtracted\", num, \"from shared variable with value = \",self.shared_var)\n",
    "            time.sleep(0.1)\n",
    "\n",
    "shared_var = 0\n",
    "add_thread = AddThread(shared_var)\n",
    "subtract_thread = SubtractThread(shared_var)\n",
    "\n",
    "add_thread.start()\n",
    "subtract_thread.start()\n",
    "\n",
    "add_thread.join()\n",
    "subtract_thread.join()\n",
    "\n",
    "print(\"Final value of shared variable is\", shared_var)\n"
   ]
  },
  {
   "cell_type": "markdown",
   "metadata": {},
   "source": [
    "# Q10. \n",
    "Write a program that creates a thread to calculate the sum of the numbers from 1 to 100 and prints\n",
    "the result."
   ]
  },
  {
   "cell_type": "code",
   "execution_count": 93,
   "metadata": {},
   "outputs": [
    {
     "name": "stdout",
     "output_type": "stream",
     "text": [
      "sum = 0 \n",
      "sum + i = sum \n",
      "0+1=1\n",
      "1+2=3\n",
      "3+3=6\n",
      "6+4=10\n",
      "10+5=15\n",
      "15+6=21\n",
      "21+7=28\n",
      "28+8=36\n",
      "36+9=45\n",
      "45+10=55\n",
      "55+11=66\n",
      "66+12=78\n",
      "78+13=91\n",
      "91+14=105\n",
      "105+15=120\n",
      "120+16=136\n",
      "136+17=153\n",
      "153+18=171\n",
      "171+19=190\n",
      "190+20=210\n",
      "210+21=231\n",
      "231+22=253\n",
      "253+23=276\n",
      "276+24=300\n",
      "300+25=325\n",
      "325+26=351\n",
      "351+27=378\n",
      "378+28=406\n",
      "406+29=435\n",
      "435+30=465\n",
      "465+31=496\n",
      "496+32=528\n",
      "528+33=561\n",
      "561+34=595\n",
      "595+35=630\n",
      "630+36=666\n",
      "666+37=703\n",
      "703+38=741\n",
      "741+39=780\n",
      "780+40=820\n",
      "820+41=861\n",
      "861+42=903\n",
      "903+43=946\n",
      "946+44=990\n",
      "990+45=1035\n",
      "1035+46=1081\n",
      "1081+47=1128\n",
      "1128+48=1176\n",
      "1176+49=1225\n",
      "1225+50=1275\n",
      "1275+51=1326\n",
      "1326+52=1378\n",
      "1378+53=1431\n",
      "1431+54=1485\n",
      "1485+55=1540\n",
      "1540+56=1596\n",
      "1596+57=1653\n",
      "1653+58=1711\n",
      "1711+59=1770\n",
      "1770+60=1830\n",
      "1830+61=1891\n",
      "1891+62=1953\n",
      "1953+63=2016\n",
      "2016+64=2080\n",
      "2080+65=2145\n",
      "2145+66=2211\n",
      "2211+67=2278\n",
      "2278+68=2346\n",
      "2346+69=2415\n",
      "2415+70=2485\n",
      "2485+71=2556\n",
      "2556+72=2628\n",
      "2628+73=2701\n",
      "2701+74=2775\n",
      "2775+75=2850\n",
      "2850+76=2926\n",
      "2926+77=3003\n",
      "3003+78=3081\n",
      "3081+79=3160\n",
      "3160+80=3240\n",
      "3240+81=3321\n",
      "3321+82=3403\n",
      "3403+83=3486\n",
      "3486+84=3570\n",
      "3570+85=3655\n",
      "3655+86=3741\n",
      "3741+87=3828\n",
      "3828+88=3916\n",
      "3916+89=4005\n",
      "4005+90=4095\n",
      "4095+91=4186\n",
      "4186+92=4278\n",
      "4278+93=4371\n",
      "4371+94=4465\n",
      "4465+95=4560\n",
      "4560+96=4656\n",
      "4656+97=4753\n",
      "4753+98=4851\n",
      "4851+99=4950\n",
      "4950+100=5050\n",
      "Final Sum => 1 + 2 + 3 + 4 +................+ 100 = 5050\n"
     ]
    }
   ],
   "source": [
    "import threading\n",
    "\n",
    "def sum_numbers():\n",
    "    sum =0\n",
    "    for i in range(1,101):\n",
    "        t = sum\n",
    "        sum+=i\n",
    "        print(\"{}+{}={}\".format(t,i,sum))\n",
    "    print(\"Final Sum => 1 + 2 + 3 + 4 +................+ 100 = {}\".format(sum))     \n",
    "        \n",
    "       \n",
    "        \n",
    "\n",
    "t = threading.Thread(target=sum_numbers)\n",
    "print(\"sum = 0 \")\n",
    "print(\"sum + i = sum \")\n",
    "\n",
    "t.start()\n",
    "\n",
    "t.join()\n",
    "\n",
    "\n"
   ]
  },
  {
   "cell_type": "markdown",
   "metadata": {},
   "source": [
    "____________________________________________________________________________________________________\n",
    "\n",
    "\n",
    "                                      Completed Python-Practice-Set-7 \n",
    "\n",
    "____________________________________________________________________________________________________\n",
    "\n"
   ]
  }
 ],
 "metadata": {
  "kernelspec": {
   "display_name": "Python 3",
   "language": "python",
   "name": "python3"
  },
  "language_info": {
   "codemirror_mode": {
    "name": "ipython",
    "version": 3
   },
   "file_extension": ".py",
   "mimetype": "text/x-python",
   "name": "python",
   "nbconvert_exporter": "python",
   "pygments_lexer": "ipython3",
   "version": "3.6.9"
  }
 },
 "nbformat": 4,
 "nbformat_minor": 4
}
