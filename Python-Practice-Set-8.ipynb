{
 "cells": [
  {
   "cell_type": "markdown",
   "metadata": {},
   "source": [
    "#  Q1.\n",
    "Write a Python program to create two processes that print out the numbers from 1 to 10 simultaneously."
   ]
  },
  {
   "cell_type": "code",
   "execution_count": 2,
   "metadata": {
    "scrolled": true
   },
   "outputs": [
    {
     "name": "stdout",
     "output_type": "stream",
     "text": [
      "1\n",
      "2\n",
      "3\n",
      "4\n",
      "5\n",
      "6\n",
      "7\n",
      "8\n",
      "9\n",
      "10\n",
      "11\n",
      "12\n",
      "18\n",
      "19\n",
      "20\n",
      "21\n",
      "22\n",
      "23\n",
      "24\n",
      "25\n",
      "26\n",
      "27\n",
      "28\n"
     ]
    }
   ],
   "source": [
    "from multiprocessing import Process\n",
    "\n",
    "def print_number(start,end):\n",
    "    for i in range(start,end+1):\n",
    "        print(i)\n",
    "        \n",
    "        \n",
    "if __name__ ==\"__main__\":\n",
    "    p1 = Process(target=print_number, args = (1,12))\n",
    "    p2 = Process(target=print_number, args = (18,28))\n",
    "    \n",
    "    p1.start()\n",
    "    \n",
    "    p1.join()\n",
    "    p2.start()\n",
    "    p2.join()\n"
   ]
  },
  {
   "cell_type": "markdown",
   "metadata": {},
   "source": [
    "# Q2:\n",
    "Write a Python program that creates four processes and computes the sum of the first 1000 integers using multiprocessing\n",
    "\n",
    "Note >>>>\n",
    "------------\n",
    "\n",
    "Using the get_lock() method of a multiprocessing.Value means that code using the object doesn't need to be concerned about the source of the Lock (since it could have been created automatically or was passed explicitly when the Value instance was created)."
   ]
  },
  {
   "cell_type": "code",
   "execution_count": 5,
   "metadata": {
    "scrolled": true
   },
   "outputs": [
    {
     "name": "stdout",
     "output_type": "stream",
     "text": [
      "Total: 500500\n"
     ]
    }
   ],
   "source": [
    "from multiprocessing import Process, Value\n",
    "\n",
    "def compute_sum(start, end, total):\n",
    "    for i in range(start, end+1):\n",
    "        with total.get_lock():\n",
    "            total.value += i\n",
    "\n",
    "if __name__ == '__main__':\n",
    "    total = Value('i', 0)\n",
    "    \n",
    "    p1 = Process(target=compute_sum, args=(1, 250, total))\n",
    "    p2 = Process(target=compute_sum, args=(251, 500, total))\n",
    "    p3 = Process(target=compute_sum, args=(501, 750, total))\n",
    "    p4 = Process(target=compute_sum, args=(751, 1000, total))\n",
    "    \n",
    "    p1.start()\n",
    "    p2.start()\n",
    "    p3.start()\n",
    "    p4.start()\n",
    "    \n",
    "    p1.join()\n",
    "    p2.join()\n",
    "    p3.join()\n",
    "    p4.join()\n",
    "    \n",
    "    print('Total:', total.value)\n"
   ]
  },
  {
   "cell_type": "markdown",
   "metadata": {},
   "source": [
    "# Q3.\n",
    "Write a Python program that creates two processes and communicates between them using a Queue. The first process should send a list of numbers to the second process, which should calculate the sum of the numbers and send it back to the first process."
   ]
  },
  {
   "cell_type": "code",
   "execution_count": 6,
   "metadata": {
    "scrolled": true
   },
   "outputs": [
    {
     "name": "stdout",
     "output_type": "stream",
     "text": [
      "The sum of the numbers [1, 2, 3, 4, 5] is 15.\n"
     ]
    }
   ],
   "source": [
    "from multiprocessing import Process, Queue\n",
    "\n",
    "def calculate_sum(numbers, q):\n",
    "    \"\"\"\n",
    "    This function takes a list of numbers and calculates the sum of them.\n",
    "    The result is put into a queue to be returned to the main process.\n",
    "    \"\"\"\n",
    "    result = sum(numbers)\n",
    "    q.put(result)\n",
    "\n",
    "if __name__ == '__main__':\n",
    "    # Define the list of numbers to be summed\n",
    "    numbers = [1, 2, 3, 4, 5]\n",
    "\n",
    "    # Create a queue to communicate between processes\n",
    "    q = Queue()\n",
    "\n",
    "    # Create a process to calculate the sum of the numbers\n",
    "    p = Process(target=calculate_sum, args=(numbers, q))\n",
    "    p.start()\n",
    "\n",
    "    # Wait for the result to be put in the queue and retrieve it\n",
    "    result = q.get()\n",
    "\n",
    "    # Print the result\n",
    "    print(f\"The sum of the numbers {numbers} is {result}.\")\n"
   ]
  },
  {
   "cell_type": "markdown",
   "metadata": {},
   "source": [
    "# Q4.\n",
    "Write a program to find the maximum number in a list of lists using multiprocessing."
   ]
  },
  {
   "cell_type": "code",
   "execution_count": 7,
   "metadata": {
    "scrolled": false
   },
   "outputs": [
    {
     "name": "stdout",
     "output_type": "stream",
     "text": [
      "9\n"
     ]
    }
   ],
   "source": [
    "import multiprocessing\n",
    "\n",
    "def find_max(nums):\n",
    "    return max(nums)\n",
    "\n",
    "if __name__ == '__main__':\n",
    "    nums = [[1, 2, 3], [4, 5, 6], [7, 8, 9]]\n",
    "    with multiprocessing.Pool(processes=3) as pool:\n",
    "        result = pool.map(find_max, nums)\n",
    "    print(max(result))\n"
   ]
  },
  {
   "cell_type": "markdown",
   "metadata": {},
   "source": [
    "# Q5.\n",
    "Write a Python program that uses the Pool class from the multiprocessing module to calculate the squares of a list of integers. "
   ]
  },
  {
   "cell_type": "code",
   "execution_count": 27,
   "metadata": {
    "scrolled": true
   },
   "outputs": [
    {
     "name": "stdout",
     "output_type": "stream",
     "text": [
      "[1, 4, 9, 16, 25]\n"
     ]
    }
   ],
   "source": [
    "import multiprocessing\n",
    "\n",
    "def square(x):\n",
    "    return x ** 2\n",
    "\n",
    "if __name__ == '__main__':\n",
    "    with multiprocessing.Pool(processes=4) as pool:\n",
    "        numbers = [1, 2, 3, 4, 5]\n",
    "        result = pool.map(square, numbers)\n",
    "        print(result)\n"
   ]
  },
  {
   "cell_type": "markdown",
   "metadata": {},
   "source": [
    "# Q6.\n",
    "How do you create a new process using the multiprocessing module in Python?"
   ]
  },
  {
   "cell_type": "code",
   "execution_count": 29,
   "metadata": {
    "scrolled": true
   },
   "outputs": [
    {
     "name": "stdout",
     "output_type": "stream",
     "text": [
      "This is a child process.\n"
     ]
    }
   ],
   "source": [
    "import multiprocessing\n",
    "\n",
    "def my():\n",
    "    print(\"This is a child process.\")\n",
    "\n",
    "if __name__ == '__main__':\n",
    "    p = multiprocessing.Process(target=my)\n",
    "    p.start()\n"
   ]
  },
  {
   "cell_type": "markdown",
   "metadata": {},
   "source": [
    "# Q7.\n",
    "How do you use a Pool to execute a function with multiple arguments in parallel?"
   ]
  },
  {
   "cell_type": "code",
   "execution_count": 34,
   "metadata": {
    "scrolled": true
   },
   "outputs": [
    {
     "name": "stdout",
     "output_type": "stream",
     "text": [
      "[6, 20, 50, 40, 54, -18]\n"
     ]
    }
   ],
   "source": [
    "import multiprocessing\n",
    "\n",
    "def my_function(num1, num2):\n",
    "    return num1 * num2\n",
    "\n",
    "if __name__ == '__main__':\n",
    "    with multiprocessing.Pool(processes=2) as pool:\n",
    "        results = pool.starmap(my_function, [(2, 3), (4, 5),(5,10),(5,8),(-9,-6),(-6,3)])\n",
    "    print(results)\n"
   ]
  },
  {
   "cell_type": "markdown",
   "metadata": {},
   "source": [
    "# Q8.\n",
    "Write a Python program to calculate the sum of squares of numbers in a list using multiprocessing."
   ]
  },
  {
   "cell_type": "code",
   "execution_count": 35,
   "metadata": {
    "scrolled": true
   },
   "outputs": [
    {
     "name": "stdout",
     "output_type": "stream",
     "text": [
      "Sum of squares of [1, 2, 3, 4, 5] is 55\n"
     ]
    }
   ],
   "source": [
    "import multiprocessing\n",
    "\n",
    "def square_sum(numbers, result):\n",
    "    \"\"\"Calculate the sum of squares of numbers and store the result in the given shared array.\"\"\"\n",
    "    total = 0\n",
    "    for num in numbers:\n",
    "        total += num**2\n",
    "    result.value = total\n",
    "\n",
    "if __name__ == \"__main__\":\n",
    "    nums = [1, 2, 3, 4, 5]\n",
    "    result = multiprocessing.Value('i')  # shared integer value\n",
    "    p = multiprocessing.Process(target=square_sum, args=(nums, result))\n",
    "    p.start()\n",
    "    p.join()\n",
    "    print(f\"Sum of squares of {nums} is {result.value}\")\n"
   ]
  },
  {
   "cell_type": "markdown",
   "metadata": {},
   "source": [
    "# Q9.\n",
    "Write a Python program that uses the multiprocessing module to calculate the sum of a large list of integers."
   ]
  },
  {
   "cell_type": "code",
   "execution_count": 36,
   "metadata": {
    "scrolled": true
   },
   "outputs": [
    {
     "name": "stdout",
     "output_type": "stream",
     "text": [
      "5500000\n"
     ]
    }
   ],
   "source": [
    "import multiprocessing\n",
    "def sum_worker(data_chunk):\n",
    "    return sum(data_chunk)\n",
    "def main():\n",
    "    data = [1, 2, 3, 4, 5, 6, 7, 8, 9, 10] * 100000\n",
    "    pool = multiprocessing.Pool(processes=4)\n",
    "    chunksize = len(data) // 4\n",
    "    chunks = [data[i:i+chunksize] for i in range(0, len(data), chunksize)]\n",
    "    results = pool.map(sum_worker, chunks)\n",
    "    pool.close()\n",
    "    pool.join()\n",
    "    total = sum(results)\n",
    "    print(total)\n",
    "if __name__ == \"__main__\":\n",
    "    main()"
   ]
  },
  {
   "cell_type": "markdown",
   "metadata": {},
   "source": [
    "# Q10.\n",
    "Write a Python program that uses the multiprocessing module to parallelize the computation of the factorial of a number."
   ]
  },
  {
   "cell_type": "code",
   "execution_count": 37,
   "metadata": {
    "scrolled": true
   },
   "outputs": [
    {
     "name": "stdout",
     "output_type": "stream",
     "text": [
      "The factorials of the numbers 1 to 10 are: [1, 2, 6, 24, 120, 720, 5040, 40320, 362880, 3628800]\n"
     ]
    }
   ],
   "source": [
    "import multiprocessing\n",
    "def factorial(n):\n",
    "    if n == 0:\n",
    "        return 1\n",
    "    else:\n",
    "        return n * factorial(n-1)\n",
    "def factorial_worker(n):\n",
    "    return factorial(n)\n",
    "def main():\n",
    "    n = 10\n",
    "    pool = multiprocessing.Pool(processes=4)\n",
    "    results = pool.map(factorial_worker, range(1, n+1))\n",
    "    pool.close()\n",
    "    pool.join()\n",
    "    print(f\"The factorials of the numbers 1 to {n} are: {results}\")\n",
    "if __name__ == \"__main__\":\n",
    "    main()"
   ]
  },
  {
   "cell_type": "markdown",
   "metadata": {},
   "source": [
    "_________________________________________________________________________________________________\n",
    "\n",
    "                                 Completed Python-Practice-Set-8  \n",
    "_________________________________________________________________________________________________"
   ]
  }
 ],
 "metadata": {
  "kernelspec": {
   "display_name": "Python 3",
   "language": "python",
   "name": "python3"
  },
  "language_info": {
   "codemirror_mode": {
    "name": "ipython",
    "version": 3
   },
   "file_extension": ".py",
   "mimetype": "text/x-python",
   "name": "python",
   "nbconvert_exporter": "python",
   "pygments_lexer": "ipython3",
   "version": "3.6.9"
  }
 },
 "nbformat": 4,
 "nbformat_minor": 4
}
