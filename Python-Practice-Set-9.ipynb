{
 "cells": [
  {
   "cell_type": "markdown",
   "metadata": {},
   "source": [
    "# Q1.\n",
    "Write a Python program that prompts the user for two integers and divides the first integer by the second integer. If the either variable are none integer then print the value error and  second integer is zero, catch the ZeroDivisionError and print an error message to the user.\n",
    "\n",
    "\n"
   ]
  },
  {
   "cell_type": "code",
   "execution_count": 4,
   "metadata": {},
   "outputs": [
    {
     "name": "stdout",
     "output_type": "stream",
     "text": [
      "Ist Integer : 23\n",
      "IInd Integer : 0\n",
      "Error:  Please enter Non-Zero value for the IInd integer : \n",
      "Ist Integer : 12\n",
      "IInd Integer : p\n",
      "Error: Please enter the integer only :\n",
      "Ist Integer : 23\n",
      "IInd Integer : 89\n",
      "Result \n",
      " 23/89 = 0.25842696629213485\n"
     ]
    }
   ],
   "source": [
    "while True:\n",
    "    try:\n",
    "        x  = int(input(\"Ist Integer : \"))\n",
    "        y  = int(input(\"IInd Integer : \"))\n",
    "        result = x/y\n",
    "        print(\"Result \\n {}/{} = {}\".format(x,y,result))\n",
    "        break\n",
    "    except ValueError:\n",
    "        print(\"Error: Please enter the integer only :\")\n",
    "    except ZeroDivisionError:\n",
    "        print(\"Error:  Please enter Non-Zero value for the IInd integer : \")"
   ]
  },
  {
   "cell_type": "markdown",
   "metadata": {},
   "source": [
    "# Q2.\n",
    "Write a Python program that prompts the user for a password and checks whether the password meets certain criteria (e.g., at least 8 characters, contains at least one uppercase letter, etc.). If the password does not meet the criteria, raise a custom exception called PasswordError with a custom error message.\n",
    "\n"
   ]
  },
  {
   "cell_type": "code",
   "execution_count": 13,
   "metadata": {},
   "outputs": [
    {
     "name": "stdout",
     "output_type": "stream",
     "text": [
      "Give The Password :Ajaykumar@\n",
      "Error : Password must contain at least one digit.\n"
     ]
    }
   ],
   "source": [
    "class PasswordError(Exception):\n",
    "    pass\n",
    "def check_password(password):\n",
    "    if len(password)<8:\n",
    "        raise PasswordError(\"Error : Password must be at least 8 characters long.\")\n",
    "    elif not any(char.isupper()  for char in password):\n",
    "        raise PasswordError(\"Error : Password must contain at least one uppercase letter.\")\n",
    "    elif not any(char.isdigit() for char in password):\n",
    "        raise PasswordError(\"Error : Password must contain at least one digit.\")\n",
    "    elif not any(char in ['$','#','@'] for char in password):\n",
    "        raise PasswordError(\"Error : password must contain at least one of the special characters : '$','@','#'\")\n",
    "    else:\n",
    "        print(\"Password is valid. \")\n",
    "\n",
    "\n",
    "passwd = input(\"Give The Password :\")\n",
    "\n",
    "try:\n",
    "    check_password(passwd)\n",
    "except PasswordError as e:\n",
    "    print(e)\n",
    "    "
   ]
  },
  {
   "cell_type": "markdown",
   "metadata": {},
   "source": [
    "# Q3.\n",
    "Write a Python program that prompts the user for a number and calculates the square root of the number using the math.sqrt() function. If the number is negative, raise a ValueError with a custom error message."
   ]
  },
  {
   "cell_type": "code",
   "execution_count": 21,
   "metadata": {
    "scrolled": false
   },
   "outputs": [
    {
     "name": "stdout",
     "output_type": "stream",
     "text": [
      "Give any non negative integer :-98\n",
      "Error : You give the -ve integer :\n"
     ]
    }
   ],
   "source": [
    "import math\n",
    "\n",
    "try:\n",
    "    n  = float(input(\"Give any non negative integer :\"))\n",
    "    result = math.sqrt(n)\n",
    "    print(\"The Square Root of {} = {}\".format(n,result))\n",
    "except ValueError:\n",
    "    print(\"Error : You give the -ve integer :\")\n",
    "    \n",
    "    "
   ]
  },
  {
   "cell_type": "markdown",
   "metadata": {},
   "source": [
    "# Q4:\n",
    "Write a Python program that prompts the user for a number and calculates the square root of the number using the math.sqrt() function. If the number is negative, raise a ValueError with a custom error message."
   ]
  },
  {
   "cell_type": "code",
   "execution_count": 23,
   "metadata": {
    "scrolled": true
   },
   "outputs": [
    {
     "name": "stdout",
     "output_type": "stream",
     "text": [
      "Enter a number: -78\n",
      "Error: number cannot be negative.\n",
      "Enter a number: 89\n",
      "The square root of 89.0 is 9.433981132056603\n"
     ]
    }
   ],
   "source": [
    "import math\n",
    "\n",
    "while True:\n",
    "    try:\n",
    "        # Prompt user for number\n",
    "        num = float(input(\"Enter a number: \"))\n",
    "        \n",
    "        # Check if number is negative\n",
    "        if num < 0:\n",
    "            raise ValueError(\"Error: number cannot be negative.\")\n",
    "        \n",
    "        # Calculate square root\n",
    "        result = math.sqrt(num)\n",
    "        print(\"The square root of\", num, \"is\", result)\n",
    "        break\n",
    "    except ValueError as e:\n",
    "        print(e)\n"
   ]
  },
  {
   "cell_type": "markdown",
   "metadata": {},
   "source": [
    "# Q5:\n",
    "Write a Python program that prompts the user for a list of integers and calculates the average of the list. If the list is empty, raise a ValueError with a custom error message"
   ]
  },
  {
   "cell_type": "code",
   "execution_count": 27,
   "metadata": {
    "scrolled": true
   },
   "outputs": [
    {
     "name": "stdout",
     "output_type": "stream",
     "text": [
      "Enter a list of integers (separated by spaces): 12 3 49 0 -12 -11\n",
      "Average of the list: 6.833333333333333\n"
     ]
    }
   ],
   "source": [
    "try:\n",
    "    # Prompt user for a list of integers\n",
    "    num_list = [int(num) for num in input(\"Enter a list of integers (separated by spaces): \").split()]\n",
    "    \n",
    "    # Calculate the average of the list\n",
    "    avg = sum(num_list) / len(num_list)\n",
    "    print(\"Average of the list:\", avg)\n",
    "\n",
    "    # Raise a ValueError if the list is empty\n",
    "    if not num_list:\n",
    "        raise ValueError(\"List is empty\")\n",
    "except ValueError as e:\n",
    "    print(\"Error:\", e)"
   ]
  },
  {
   "cell_type": "markdown",
   "metadata": {},
   "source": [
    "# Q6:\n",
    "Write a function that takes a string as input and returns the number of vowels in the string. If the input is not a string, raise a TypeError with a custom error message."
   ]
  },
  {
   "cell_type": "code",
   "execution_count": 31,
   "metadata": {
    "scrolled": true
   },
   "outputs": [
    {
     "name": "stdout",
     "output_type": "stream",
     "text": [
      "Give the String : 12345\n"
     ]
    },
    {
     "data": {
      "text/plain": [
       "0"
      ]
     },
     "execution_count": 31,
     "metadata": {},
     "output_type": "execute_result"
    }
   ],
   "source": [
    "def count_vowels(string):\n",
    "    try:\n",
    "        # Check if input is a string\n",
    "        if not isinstance(string, str):\n",
    "            raise TypeError(\"Input must be a string\")\n",
    "        \n",
    "        # Count and return the number of vowels in the string\n",
    "        vowels = \"aeiouAEIOU\"\n",
    "        return sum([1 for char in string if char in vowels])\n",
    "    except TypeError as e:\n",
    "        print(\"Error:\", e)\n",
    "        \n",
    "        \n",
    "s  = input(\"Give the String : \")\n",
    "count_vowels(s)"
   ]
  },
  {
   "cell_type": "markdown",
   "metadata": {},
   "source": [
    "# Q7:\n",
    "write a python program how to handle simple runtime error?"
   ]
  },
  {
   "cell_type": "code",
   "execution_count": 32,
   "metadata": {
    "scrolled": true
   },
   "outputs": [
    {
     "name": "stdout",
     "output_type": "stream",
     "text": [
      "Second element = 2\n",
      "An error occurred\n"
     ]
    }
   ],
   "source": [
    "a = [1, 2, 3]\n",
    "try:\n",
    "    print (\"Second element = %d\" %(a[1]))\n",
    "    # Throws error since there are only 3 elements in array\n",
    "    print (\"Fourth element = %d\" %(a[3]))\n",
    "except:\n",
    "    print (\"An error occurred\")"
   ]
  },
  {
   "cell_type": "markdown",
   "metadata": {},
   "source": [
    "# Q8:\n",
    "write a program how to handle multiple errors with one answer"
   ]
  },
  {
   "cell_type": "code",
   "execution_count": 33,
   "metadata": {
    "scrolled": true
   },
   "outputs": [
    {
     "name": "stdout",
     "output_type": "stream",
     "text": [
      "ZeroDivisionError Occurred and Handled\n"
     ]
    }
   ],
   "source": [
    "def fun(a):\n",
    "\tif a < 4:\n",
    "\t\t# throws ZeroDivisionError for a = 3\n",
    "\t\tb = a/(a-3)\n",
    "\t# throws NameError if a >= 4\n",
    "\tprint(\"Value of b = \", b)\n",
    "\t\n",
    "try:\n",
    "\tfun(3)\n",
    "\tfun(5)\n",
    "# note that braces () are necessary here for\n",
    "# multiple exceptions\n",
    "except ZeroDivisionError:\n",
    "\tprint(\"ZeroDivisionError Occurred and Handled\")\n",
    "except NameError:\n",
    "\tprint(\"NameError Occurred and Handled\")\n",
    " "
   ]
  },
  {
   "cell_type": "markdown",
   "metadata": {},
   "source": [
    "# Q9:\n",
    "write a program to print the reciprocal of even numbers note:we might want to run a certain block of code if the code block inside try runs without any errors. For these cases, you can use the optional else keyword with the try statement."
   ]
  },
  {
   "cell_type": "code",
   "execution_count": 34,
   "metadata": {
    "scrolled": true
   },
   "outputs": [
    {
     "name": "stdout",
     "output_type": "stream",
     "text": [
      "Enter a number: 7\n",
      "Not an even number!\n"
     ]
    }
   ],
   "source": [
    "try:\n",
    "    num = int(input(\"Enter a number: \"))\n",
    "    assert num % 2 == 0\n",
    "except:\n",
    "    print(\"Not an even number!\")\n",
    "else:\n",
    "    reciprocal = 1/num\n",
    "    print(reciprocal)"
   ]
  },
  {
   "cell_type": "markdown",
   "metadata": {},
   "source": [
    "# Q10:\n",
    "How to handle exceptions using the try, except, and finally statements write code"
   ]
  },
  {
   "cell_type": "code",
   "execution_count": 35,
   "metadata": {},
   "outputs": [
    {
     "name": "stdout",
     "output_type": "stream",
     "text": [
      "Enter a number: 67\n",
      "Result: 0.029850746268656716\n",
      "Thank you for using this program!\n"
     ]
    }
   ],
   "source": [
    "try:\n",
    "    # Ask the user to enter a number\n",
    "    num = int(input(\"Enter a number: \"))\n",
    "    \n",
    "    # Divide the number by 2\n",
    "    result = 2 / num\n",
    "    \n",
    "    # Print the result\n",
    "    print(\"Result:\", result)\n",
    "except ValueError:\n",
    "    # Handle the case where the user did not enter a valid number\n",
    "    print(\"Error: You must enter a valid number\")\n",
    "except ZeroDivisionError:\n",
    "    # Handle the case where the user entered 0 as the number\n",
    "    print(\"Error: You cannot divide by zero\")\n",
    "finally:\n",
    "    # Clean up resources or run some final code\n",
    "    print(\"Thank you for using this program!\")\n"
   ]
  },
  {
   "cell_type": "markdown",
   "metadata": {},
   "source": [
    "___________________________________________________________________________________\n",
    "\n",
    "                          Completed Python-Practice-Set-9\n",
    "___________________________________________________________________________________    \n",
    "    \n",
    "    \n",
    "    \n",
    "    \n",
    "    \n",
    "    \n",
    "    "
   ]
  }
 ],
 "metadata": {
  "kernelspec": {
   "display_name": "Python 3",
   "language": "python",
   "name": "python3"
  },
  "language_info": {
   "codemirror_mode": {
    "name": "ipython",
    "version": 3
   },
   "file_extension": ".py",
   "mimetype": "text/x-python",
   "name": "python",
   "nbconvert_exporter": "python",
   "pygments_lexer": "ipython3",
   "version": "3.6.9"
  }
 },
 "nbformat": 4,
 "nbformat_minor": 4
}
